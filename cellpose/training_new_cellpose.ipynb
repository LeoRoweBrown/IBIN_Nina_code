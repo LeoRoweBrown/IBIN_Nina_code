{
 "cells": [
  {
   "cell_type": "code",
   "execution_count": 3,
   "metadata": {},
   "outputs": [
    {
     "name": "stdout",
     "output_type": "stream",
     "text": [
      "2024-03-19 19:23:36,189 [INFO] ** TORCH CUDA version installed and working. **\n"
     ]
    },
    {
     "data": {
      "text/plain": [
       "True"
      ]
     },
     "execution_count": 3,
     "metadata": {},
     "output_type": "execute_result"
    }
   ],
   "source": [
    "from cellpose import io, models, train, core\n",
    "from tifffile import imread\n",
    "from glob import glob\n",
    "import numpy as np\n",
    "import os\n",
    "\n",
    "core.use_gpu()"
   ]
  },
  {
   "cell_type": "code",
   "execution_count": 9,
   "metadata": {},
   "outputs": [
    {
     "name": "stdout",
     "output_type": "stream",
     "text": [
      "creating new log file\n",
      "2024-03-19 19:28:33,863 [INFO] WRITING LOG OUTPUT TO C:\\Users\\lnr19\\.cellpose\\run.log\n",
      "2024-03-19 19:28:33,865 [INFO] \n",
      "cellpose version: \t3.0.7 \n",
      "platform:       \twin32 \n",
      "python version: \t3.12.2 \n",
      "torch version:  \t2.2.1+cu118\n",
      "['flows\\\\data_004-left0000.tif', 'flows\\\\data_004-left0001.tif', 'flows\\\\data_004-left0002.tif', 'flows\\\\data_004-left0003.tif', 'flows\\\\data_004-left0004.tif', 'flows\\\\data_004-left0005.tif', 'flows\\\\data_004-left0006.tif', 'flows\\\\data_004-left0007.tif', 'flows\\\\data_004-left0008.tif', 'flows\\\\data_004-left0009.tif', 'flows\\\\data_004-left0010.tif', 'flows\\\\data_004-left0011.tif', 'flows\\\\data_004-left0012.tif', 'flows\\\\data_004-left0013.tif', 'flows\\\\data_004-left0014.tif', 'flows\\\\data_004-left0015.tif', 'flows\\\\data_004-left0016.tif', 'flows\\\\data_004-left0017.tif', 'flows\\\\data_004-left0018.tif', 'flows\\\\data_004-left0019.tif', 'flows\\\\data_004-left0020.tif', 'flows\\\\data_004-left0021.tif', 'flows\\\\data_004-left0022.tif', 'flows\\\\data_004-left0023.tif', 'flows\\\\data_004-left0024.tif', 'flows\\\\data_004-left0025.tif', 'flows\\\\data_004-left0026.tif', 'flows\\\\data_004-left0027.tif', 'flows\\\\data_004-left0028.tif', 'flows\\\\data_004-left0029.tif', 'flows\\\\data_004-left0030.tif', 'flows\\\\data_004-left0031.tif', 'flows\\\\data_004-left0032.tif', 'flows\\\\data_004-left0033.tif', 'flows\\\\data_004-left0034.tif', 'flows\\\\data_004-left0035.tif', 'flows\\\\data_004-left0036.tif', 'flows\\\\data_004-left0037.tif', 'flows\\\\data_004-left0038.tif', 'flows\\\\data_004-left0039.tif', 'flows\\\\data_004-left0040.tif', 'flows\\\\data_004-left0041.tif', 'flows\\\\data_004-left0042.tif', 'flows\\\\data_004-left0043.tif', 'flows\\\\data_004-left0044.tif', 'flows\\\\data_004-left0045.tif', 'flows\\\\data_004-left0046.tif', 'flows\\\\data_004-left0047.tif', 'flows\\\\data_004-left0048.tif', 'flows\\\\data_004-left0049.tif', 'flows\\\\data_004-left0050.tif', 'flows\\\\data_004-left0051.tif', 'flows\\\\data_004-left0052.tif', 'flows\\\\data_004-left0053.tif', 'flows\\\\data_004-left0054.tif', 'flows\\\\data_004-left0055.tif', 'flows\\\\data_004-left0056.tif', 'flows\\\\data_004-left0057.tif', 'flows\\\\data_004-left0058.tif', 'flows\\\\data_004-left0059.tif', 'flows\\\\data_004-left0060.tif', 'flows\\\\data_004-left0061.tif', 'flows\\\\data_004-left0062.tif', 'flows\\\\data_004-left0063.tif', 'flows\\\\data_004-left0064.tif', 'flows\\\\data_004-left0065.tif', 'flows\\\\data_004-left0066.tif', 'flows\\\\data_004-left0067.tif', 'flows\\\\data_004-left0068.tif', 'flows\\\\data_004-left0069.tif', 'flows\\\\data_004-left0070.tif', 'flows\\\\data_004-left0071.tif', 'flows\\\\data_004-left0072.tif', 'flows\\\\data_004-left0073.tif', 'flows\\\\data_004-left0074.tif', 'flows\\\\data_004-left0075.tif', 'flows\\\\data_004-left0076.tif', 'flows\\\\data_004-left0077.tif', 'flows\\\\data_004-left0078.tif', 'flows\\\\data_004-left0079.tif', 'flows\\\\data_004-left0080.tif', 'flows\\\\data_004-left0081.tif', 'flows\\\\data_004-left0082.tif', 'flows\\\\data_004-left0083.tif', 'flows\\\\data_004-left0084.tif', 'flows\\\\data_004-left0085.tif', 'flows\\\\data_004-left0086.tif', 'flows\\\\data_004-left0087.tif', 'flows\\\\data_004-left0088.tif', 'flows\\\\data_004-left0089.tif', 'flows\\\\data_004-left0090.tif', 'flows\\\\data_004-left0091.tif', 'flows\\\\data_004-left0092.tif', 'flows\\\\data_004-left0093.tif', 'flows\\\\data_004-left0094.tif', 'flows\\\\data_004-left0095.tif', 'flows\\\\data_004-left0096.tif', 'flows\\\\data_004-left0097.tif', 'flows\\\\data_004-left0098.tif', 'flows\\\\data_004-left0099.tif', 'flows\\\\data_004-left0100.tif', 'flows\\\\data_004-left0101.tif', 'flows\\\\data_004-left0102.tif', 'flows\\\\data_004-left0103.tif', 'flows\\\\data_004-left0104.tif', 'flows\\\\data_004-left0105.tif', 'flows\\\\data_004-left0106.tif', 'flows\\\\data_004-left0107.tif', 'flows\\\\data_004-left0108.tif', 'flows\\\\data_004-left0109.tif', 'flows\\\\data_004-left0110.tif', 'flows\\\\data_004-left0111.tif', 'flows\\\\data_004-left0112.tif', 'flows\\\\data_004-left0113.tif', 'flows\\\\data_004-left0114.tif', 'flows\\\\data_004-left0115.tif', 'flows\\\\data_004-left0116.tif', 'flows\\\\data_004-left0117.tif', 'flows\\\\data_004-left0118.tif', 'flows\\\\data_004-left0119.tif', 'flows\\\\data_004-left0120.tif', 'flows\\\\data_004-left0121.tif', 'flows\\\\data_004-left0122.tif', 'flows\\\\data_004-left0123.tif', 'flows\\\\data_004-left0124.tif', 'flows\\\\data_004-left0125.tif', 'flows\\\\data_004-left0126.tif', 'flows\\\\data_004-left0127.tif', 'flows\\\\data_004-left0128.tif', 'flows\\\\data_004-left0129.tif', 'flows\\\\data_004-left0130.tif', 'flows\\\\data_004-left0131.tif', 'flows\\\\data_004-left0132.tif', 'flows\\\\data_004-left0133.tif', 'flows\\\\data_004-left0134.tif', 'flows\\\\data_004-left0135.tif', 'flows\\\\data_004-left0136.tif', 'flows\\\\data_004-left0137.tif', 'flows\\\\data_004-left0138.tif', 'flows\\\\data_004-left0139.tif', 'flows\\\\data_004-left0140.tif', 'flows\\\\data_004-left0141.tif', 'flows\\\\data_004-left0142.tif', 'flows\\\\data_004-left0143.tif', 'flows\\\\data_004-left0144.tif', 'flows\\\\data_004-left0145.tif', 'flows\\\\data_004-left0146.tif', 'flows\\\\data_004-left0147.tif', 'flows\\\\data_004-left0148.tif', 'flows\\\\data_004-left0149.tif', 'flows\\\\data_004-left0150.tif', 'flows\\\\data_004-left0151.tif', 'flows\\\\data_004-left0152.tif', 'flows\\\\data_004-left0153.tif', 'flows\\\\data_004-left0154.tif', 'flows\\\\data_004-left0155.tif', 'flows\\\\data_004-left0156.tif', 'flows\\\\data_004-left0157.tif', 'flows\\\\data_004-left0158.tif', 'flows\\\\data_004-left0159.tif', 'flows\\\\data_004-left0160.tif', 'flows\\\\data_004-left0161.tif', 'flows\\\\data_004-left0162.tif', 'flows\\\\data_004-left0163.tif', 'flows\\\\data_004-left0164.tif', 'flows\\\\data_004-left0165.tif', 'flows\\\\data_004-left0166.tif', 'flows\\\\data_004-left0167.tif', 'flows\\\\data_004-left0168.tif', 'flows\\\\data_004-left0169.tif', 'flows\\\\data_004-left0170.tif', 'flows\\\\data_004-left0171.tif', 'flows\\\\data_004-left0172.tif', 'flows\\\\data_004-left0173.tif', 'flows\\\\data_004-left0174.tif', 'flows\\\\data_004-left0175.tif', 'flows\\\\data_004-left0176.tif', 'flows\\\\data_004-left0177.tif', 'flows\\\\data_004-left0178.tif', 'flows\\\\data_004-left0179.tif', 'flows\\\\data_004-left0180.tif', 'flows\\\\data_004-left0181.tif', 'flows\\\\data_004-left0182.tif', 'flows\\\\data_004-left0183.tif', 'flows\\\\data_004-left0184.tif', 'flows\\\\data_004-left0185.tif', 'flows\\\\data_004-left0186.tif', 'flows\\\\data_004-left0187.tif', 'flows\\\\data_004-left0188.tif', 'flows\\\\data_004-left0189.tif', 'flows\\\\data_004-left0190.tif', 'flows\\\\data_004-left0191.tif', 'flows\\\\data_004-left0192.tif', 'flows\\\\data_004-left0193.tif', 'flows\\\\data_004-left0194.tif', 'flows\\\\data_004-left0195.tif', 'flows\\\\data_004-left0196.tif', 'flows\\\\data_004-left0197.tif', 'flows\\\\data_004-left0198.tif', 'flows\\\\data_004-left0199.tif', 'flows\\\\data_004-left0200.tif', 'flows\\\\data_004-left0201.tif', 'flows\\\\data_004-left0202.tif', 'flows\\\\data_004-left0203.tif', 'flows\\\\data_004-left0204.tif', 'flows\\\\data_004-left0205.tif', 'flows\\\\data_004-left0206.tif', 'flows\\\\data_004-left0207.tif', 'flows\\\\data_004-left0208.tif', 'flows\\\\data_004-left0209.tif', 'flows\\\\data_004-left0210.tif', 'flows\\\\data_004-left0211.tif', 'flows\\\\data_004-left0212.tif', 'flows\\\\data_004-left0213.tif', 'flows\\\\data_004-left0214.tif', 'flows\\\\data_004-left0215.tif', 'flows\\\\data_004-left0216.tif', 'flows\\\\data_004-left0217.tif', 'flows\\\\data_004-left0218.tif', 'flows\\\\data_004-left0219.tif', 'flows\\\\data_004-left0220.tif', 'flows\\\\data_004-left0221.tif', 'flows\\\\data_004-left0222.tif', 'flows\\\\data_004-left0223.tif', 'flows\\\\data_004-left0224.tif', 'flows\\\\data_004-left0225.tif', 'flows\\\\data_004-left0226.tif', 'flows\\\\data_004-left0227.tif', 'flows\\\\data_004-left0228.tif', 'flows\\\\data_004-left0229.tif', 'flows\\\\data_004-left0230.tif', 'flows\\\\data_004-left0231.tif', 'flows\\\\data_004-left0232.tif', 'flows\\\\data_004-left0233.tif', 'flows\\\\data_004-left0234.tif', 'flows\\\\data_004-left0235.tif', 'flows\\\\data_004-left0236.tif', 'flows\\\\data_004-left0237.tif', 'flows\\\\data_004-left0238.tif', 'flows\\\\data_004-left0239.tif', 'flows\\\\data_004-left0240.tif', 'flows\\\\data_004-left0241.tif', 'flows\\\\data_004-left0242.tif', 'flows\\\\data_004-left0243.tif', 'flows\\\\data_004-left0244.tif', 'flows\\\\data_004-left0245.tif', 'flows\\\\data_004-left0246.tif', 'flows\\\\data_004-left0247.tif', 'flows\\\\data_004-left0248.tif', 'flows\\\\data_004-left0249.tif', 'flows\\\\data_004-left0250.tif', 'flows\\\\data_004-left0251.tif', 'flows\\\\data_004-left0252.tif', 'flows\\\\data_004-left0253.tif', 'flows\\\\data_004-left0254.tif', 'flows\\\\data_004-left0255.tif', 'flows\\\\data_004-left0256.tif', 'flows\\\\data_004-left0257.tif', 'flows\\\\data_004-left0258.tif', 'flows\\\\data_004-left0259.tif', 'flows\\\\data_004-left0260.tif', 'flows\\\\data_004-left0261.tif', 'flows\\\\data_004-left0262.tif', 'flows\\\\data_004-left0263.tif', 'flows\\\\data_004-left0264.tif', 'flows\\\\data_004-left0265.tif', 'flows\\\\data_004-left0266.tif', 'flows\\\\data_004-left0267.tif', 'flows\\\\data_004-left0268.tif', 'flows\\\\data_004-left0269.tif', 'flows\\\\data_004-left0270.tif', 'flows\\\\data_004-left0271.tif', 'flows\\\\data_004-left0272.tif', 'flows\\\\data_004-left0273.tif', 'flows\\\\data_004-left0274.tif', 'flows\\\\data_004-left0275.tif', 'flows\\\\data_004-left0276.tif', 'flows\\\\data_004-left0277.tif', 'flows\\\\data_004-left0278.tif', 'flows\\\\data_004-left0279.tif', 'flows\\\\data_004-left0280.tif', 'flows\\\\data_004-left0281.tif', 'flows\\\\data_004-left0282.tif', 'flows\\\\data_004-left0283.tif', 'flows\\\\data_004-left0284.tif', 'flows\\\\data_004-left0285.tif', 'flows\\\\data_004-left0286.tif', 'flows\\\\data_004-left0287.tif', 'flows\\\\data_004-left0288.tif', 'flows\\\\data_004-left0289.tif', 'flows\\\\data_004-left0290.tif', 'flows\\\\data_004-left0291.tif', 'flows\\\\data_004-left0292.tif', 'flows\\\\data_004-left0293.tif', 'flows\\\\data_004-left0294.tif', 'flows\\\\data_004-left0295.tif', 'flows\\\\data_004-left0296.tif', 'flows\\\\data_004-left0297.tif', 'flows\\\\data_004-left0298.tif', 'flows\\\\data_004-left0299.tif', 'flows\\\\data_004-left0300.tif', 'flows\\\\data_004-left0301.tif', 'flows\\\\data_004-left0302.tif', 'flows\\\\data_004-left0303.tif', 'flows\\\\data_004-left0304.tif', 'flows\\\\data_004-left0305.tif', 'flows\\\\data_004-left0306.tif', 'flows\\\\data_004-left0307.tif', 'flows\\\\data_004-left0308.tif', 'flows\\\\data_004-left0309.tif', 'flows\\\\data_004-left0310.tif', 'flows\\\\data_004-left0311.tif', 'flows\\\\data_004-left0312.tif', 'flows\\\\data_004-left0313.tif', 'flows\\\\data_004-left0314.tif', 'flows\\\\data_004-left0315.tif', 'flows\\\\data_004-left0316.tif', 'flows\\\\data_004-left0317.tif', 'flows\\\\data_004-left0318.tif', 'flows\\\\data_004-left0319.tif', 'flows\\\\data_004_right0000.tif', 'flows\\\\data_004_right0001.tif', 'flows\\\\data_004_right0002.tif', 'flows\\\\data_004_right0003.tif', 'flows\\\\data_004_right0004.tif', 'flows\\\\data_004_right0005.tif', 'flows\\\\data_004_right0006.tif', 'flows\\\\data_004_right0007.tif', 'flows\\\\data_004_right0008.tif', 'flows\\\\data_004_right0009.tif', 'flows\\\\data_004_right0010.tif', 'flows\\\\data_004_right0011.tif', 'flows\\\\data_004_right0012.tif', 'flows\\\\data_004_right0013.tif', 'flows\\\\data_004_right0014.tif', 'flows\\\\data_004_right0015.tif', 'flows\\\\data_004_right0016.tif', 'flows\\\\data_004_right0017.tif', 'flows\\\\data_004_right0018.tif', 'flows\\\\data_004_right0019.tif', 'flows\\\\data_004_right0020.tif', 'flows\\\\data_004_right0021.tif', 'flows\\\\data_004_right0022.tif', 'flows\\\\data_004_right0023.tif', 'flows\\\\data_004_right0024.tif', 'flows\\\\data_004_right0025.tif', 'flows\\\\data_004_right0026.tif', 'flows\\\\data_004_right0027.tif', 'flows\\\\data_004_right0028.tif', 'flows\\\\data_004_right0029.tif', 'flows\\\\data_004_right0030.tif', 'flows\\\\data_004_right0031.tif', 'flows\\\\data_004_right0032.tif', 'flows\\\\data_004_right0033.tif', 'flows\\\\data_004_right0034.tif', 'flows\\\\data_004_right0035.tif', 'flows\\\\data_004_right0036.tif', 'flows\\\\data_004_right0037.tif', 'flows\\\\data_004_right0038.tif', 'flows\\\\data_004_right0039.tif', 'flows\\\\data_004_right0040.tif', 'flows\\\\data_004_right0041.tif', 'flows\\\\data_004_right0042.tif', 'flows\\\\data_004_right0043.tif', 'flows\\\\data_004_right0044.tif', 'flows\\\\data_004_right0045.tif', 'flows\\\\data_004_right0046.tif', 'flows\\\\data_004_right0047.tif', 'flows\\\\data_004_right0048.tif', 'flows\\\\data_004_right0049.tif', 'flows\\\\data_004_right0050.tif', 'flows\\\\data_004_right0051.tif', 'flows\\\\data_004_right0052.tif', 'flows\\\\data_004_right0053.tif', 'flows\\\\data_004_right0054.tif', 'flows\\\\data_004_right0055.tif', 'flows\\\\data_004_right0056.tif', 'flows\\\\data_004_right0057.tif', 'flows\\\\data_004_right0058.tif', 'flows\\\\data_004_right0059.tif', 'flows\\\\data_004_right0060.tif', 'flows\\\\data_004_right0061.tif', 'flows\\\\data_004_right0062.tif', 'flows\\\\data_004_right0063.tif', 'flows\\\\data_004_right0064.tif', 'flows\\\\data_004_right0065.tif', 'flows\\\\data_004_right0066.tif', 'flows\\\\data_004_right0067.tif', 'flows\\\\data_004_right0068.tif', 'flows\\\\data_004_right0069.tif', 'flows\\\\data_004_right0070.tif', 'flows\\\\data_004_right0071.tif', 'flows\\\\data_004_right0072.tif', 'flows\\\\data_004_right0073.tif', 'flows\\\\data_004_right0074.tif', 'flows\\\\data_004_right0075.tif', 'flows\\\\data_004_right0076.tif', 'flows\\\\data_004_right0077.tif', 'flows\\\\data_004_right0078.tif', 'flows\\\\data_004_right0079.tif', 'flows\\\\data_004_right0080.tif', 'flows\\\\data_004_right0081.tif', 'flows\\\\data_004_right0082.tif', 'flows\\\\data_004_right0083.tif', 'flows\\\\data_004_right0084.tif', 'flows\\\\data_004_right0085.tif', 'flows\\\\data_004_right0086.tif', 'flows\\\\data_004_right0087.tif', 'flows\\\\data_004_right0088.tif', 'flows\\\\data_004_right0089.tif', 'flows\\\\data_004_right0090.tif', 'flows\\\\data_004_right0091.tif', 'flows\\\\data_004_right0092.tif', 'flows\\\\data_004_right0093.tif', 'flows\\\\data_004_right0094.tif', 'flows\\\\data_004_right0095.tif', 'flows\\\\data_004_right0096.tif', 'flows\\\\data_004_right0097.tif', 'flows\\\\data_004_right0098.tif', 'flows\\\\data_004_right0099.tif', 'flows\\\\data_004_right0100.tif', 'flows\\\\data_004_right0101.tif', 'flows\\\\data_004_right0102.tif', 'flows\\\\data_004_right0103.tif', 'flows\\\\data_004_right0104.tif', 'flows\\\\data_004_right0105.tif', 'flows\\\\data_004_right0106.tif', 'flows\\\\data_004_right0107.tif', 'flows\\\\data_004_right0108.tif', 'flows\\\\data_004_right0109.tif', 'flows\\\\data_004_right0110.tif', 'flows\\\\data_004_right0111.tif', 'flows\\\\data_004_right0112.tif', 'flows\\\\data_004_right0113.tif', 'flows\\\\data_004_right0114.tif', 'flows\\\\data_004_right0115.tif', 'flows\\\\data_004_right0116.tif', 'flows\\\\data_004_right0117.tif', 'flows\\\\data_004_right0118.tif', 'flows\\\\data_004_right0119.tif', 'flows\\\\data_004_right0120.tif', 'flows\\\\data_004_right0121.tif', 'flows\\\\data_004_right0122.tif', 'flows\\\\data_004_right0123.tif', 'flows\\\\data_004_right0124.tif', 'flows\\\\data_004_right0125.tif', 'flows\\\\data_004_right0126.tif', 'flows\\\\data_004_right0127.tif', 'flows\\\\data_004_right0128.tif', 'flows\\\\data_004_right0129.tif', 'flows\\\\data_004_right0130.tif', 'flows\\\\data_004_right0131.tif', 'flows\\\\data_004_right0132.tif', 'flows\\\\data_004_right0133.tif', 'flows\\\\data_004_right0134.tif', 'flows\\\\data_004_right0135.tif', 'flows\\\\data_004_right0136.tif', 'flows\\\\data_004_right0137.tif', 'flows\\\\data_004_right0138.tif', 'flows\\\\data_004_right0139.tif', 'flows\\\\data_004_right0140.tif', 'flows\\\\data_004_right0141.tif', 'flows\\\\data_004_right0142.tif', 'flows\\\\data_004_right0143.tif', 'flows\\\\data_004_right0144.tif', 'flows\\\\data_004_right0145.tif', 'flows\\\\data_004_right0146.tif', 'flows\\\\data_004_right0147.tif', 'flows\\\\data_004_right0148.tif', 'flows\\\\data_004_right0149.tif', 'flows\\\\data_004_right0150.tif', 'flows\\\\data_004_right0151.tif', 'flows\\\\data_004_right0152.tif', 'flows\\\\data_004_right0153.tif', 'flows\\\\data_004_right0154.tif', 'flows\\\\data_004_right0155.tif', 'flows\\\\data_004_right0156.tif', 'flows\\\\data_004_right0157.tif', 'flows\\\\data_004_right0158.tif', 'flows\\\\data_004_right0159.tif', 'flows\\\\data_004_right0160.tif', 'flows\\\\data_004_right0161.tif', 'flows\\\\data_004_right0162.tif', 'flows\\\\data_004_right0163.tif', 'flows\\\\data_004_right0164.tif', 'flows\\\\data_004_right0165.tif', 'flows\\\\data_004_right0166.tif', 'flows\\\\data_004_right0167.tif', 'flows\\\\data_004_right0168.tif', 'flows\\\\data_004_right0169.tif', 'flows\\\\data_004_right0170.tif', 'flows\\\\data_004_right0171.tif', 'flows\\\\data_004_right0172.tif', 'flows\\\\data_004_right0173.tif', 'flows\\\\data_004_right0174.tif', 'flows\\\\data_004_right0175.tif', 'flows\\\\data_004_right0176.tif', 'flows\\\\data_004_right0177.tif', 'flows\\\\data_004_right0178.tif', 'flows\\\\data_004_right0179.tif', 'flows\\\\data_004_right0180.tif', 'flows\\\\data_004_right0181.tif', 'flows\\\\data_004_right0182.tif', 'flows\\\\data_004_right0183.tif', 'flows\\\\data_004_right0184.tif', 'flows\\\\data_004_right0185.tif', 'flows\\\\data_004_right0186.tif', 'flows\\\\data_004_right0187.tif', 'flows\\\\data_004_right0188.tif', 'flows\\\\data_004_right0189.tif', 'flows\\\\data_004_right0190.tif', 'flows\\\\data_004_right0191.tif', 'flows\\\\data_004_right0192.tif', 'flows\\\\data_004_right0193.tif', 'flows\\\\data_004_right0194.tif', 'flows\\\\data_004_right0195.tif', 'flows\\\\data_004_right0196.tif', 'flows\\\\data_004_right0197.tif', 'flows\\\\data_004_right0198.tif', 'flows\\\\data_004_right0199.tif', 'flows\\\\data_004_right0200.tif', 'flows\\\\data_004_right0201.tif', 'flows\\\\data_004_right0202.tif', 'flows\\\\data_004_right0203.tif', 'flows\\\\data_004_right0204.tif', 'flows\\\\data_004_right0205.tif', 'flows\\\\data_004_right0206.tif', 'flows\\\\data_004_right0207.tif', 'flows\\\\data_004_right0208.tif', 'flows\\\\data_004_right0209.tif', 'flows\\\\data_004_right0210.tif', 'flows\\\\data_004_right0211.tif', 'flows\\\\data_004_right0212.tif', 'flows\\\\data_004_right0213.tif', 'flows\\\\data_004_right0214.tif', 'flows\\\\data_004_right0215.tif', 'flows\\\\data_004_right0216.tif', 'flows\\\\data_004_right0217.tif', 'flows\\\\data_004_right0218.tif', 'flows\\\\data_004_right0219.tif', 'flows\\\\data_004_right0220.tif', 'flows\\\\data_004_right0221.tif', 'flows\\\\data_004_right0222.tif', 'flows\\\\data_004_right0223.tif', 'flows\\\\data_004_right0224.tif', 'flows\\\\data_004_right0225.tif', 'flows\\\\data_004_right0226.tif', 'flows\\\\data_004_right0227.tif', 'flows\\\\data_004_right0228.tif', 'flows\\\\data_004_right0229.tif', 'flows\\\\data_004_right0230.tif', 'flows\\\\data_004_right0231.tif', 'flows\\\\data_004_right0232.tif', 'flows\\\\data_004_right0233.tif', 'flows\\\\data_004_right0234.tif', 'flows\\\\data_004_right0235.tif', 'flows\\\\data_004_right0236.tif', 'flows\\\\data_004_right0237.tif', 'flows\\\\data_004_right0238.tif', 'flows\\\\data_004_right0239.tif', 'flows\\\\data_004_right0240.tif', 'flows\\\\data_004_right0241.tif', 'flows\\\\data_004_right0242.tif', 'flows\\\\data_004_right0243.tif', 'flows\\\\data_004_right0244.tif', 'flows\\\\data_004_right0245.tif', 'flows\\\\data_004_right0246.tif', 'flows\\\\data_004_right0247.tif', 'flows\\\\data_004_right0248.tif', 'flows\\\\data_004_right0249.tif', 'flows\\\\data_004_right0250.tif', 'flows\\\\data_004_right0251.tif', 'flows\\\\data_004_right0252.tif', 'flows\\\\data_004_right0253.tif', 'flows\\\\data_004_right0254.tif', 'flows\\\\data_004_right0255.tif', 'flows\\\\data_004_right0256.tif', 'flows\\\\data_004_right0257.tif', 'flows\\\\data_004_right0258.tif', 'flows\\\\data_004_right0259.tif', 'flows\\\\data_004_right0260.tif', 'flows\\\\data_004_right0261.tif', 'flows\\\\data_004_right0262.tif', 'flows\\\\data_004_right0263.tif', 'flows\\\\data_004_right0264.tif', 'flows\\\\data_004_right0265.tif', 'flows\\\\data_004_right0266.tif', 'flows\\\\data_004_right0267.tif', 'flows\\\\data_004_right0268.tif', 'flows\\\\data_004_right0269.tif', 'flows\\\\data_004_right0270.tif', 'flows\\\\data_004_right0271.tif', 'flows\\\\data_004_right0272.tif', 'flows\\\\data_004_right0273.tif', 'flows\\\\data_004_right0274.tif', 'flows\\\\data_004_right0275.tif', 'flows\\\\data_004_right0276.tif', 'flows\\\\data_004_right0277.tif', 'flows\\\\data_004_right0278.tif', 'flows\\\\data_004_right0279.tif', 'flows\\\\data_004_right0280.tif', 'flows\\\\data_004_right0281.tif', 'flows\\\\data_004_right0282.tif', 'flows\\\\data_004_right0283.tif', 'flows\\\\data_004_right0284.tif', 'flows\\\\data_004_right0285.tif', 'flows\\\\data_004_right0286.tif', 'flows\\\\data_004_right0287.tif', 'flows\\\\data_004_right0288.tif', 'flows\\\\data_004_right0289.tif', 'flows\\\\data_004_right0290.tif', 'flows\\\\data_004_right0291.tif', 'flows\\\\data_004_right0292.tif', 'flows\\\\data_004_right0293.tif', 'flows\\\\data_004_right0294.tif', 'flows\\\\data_004_right0295.tif', 'flows\\\\data_004_right0296.tif', 'flows\\\\data_004_right0297.tif', 'flows\\\\data_004_right0298.tif', 'flows\\\\data_004_right0299.tif', 'flows\\\\data_004_right0300.tif', 'flows\\\\data_004_right0301.tif', 'flows\\\\data_004_right0302.tif', 'flows\\\\data_004_right0303.tif', 'flows\\\\data_004_right0304.tif', 'flows\\\\data_004_right0305.tif', 'flows\\\\data_004_right0306.tif', 'flows\\\\data_004_right0307.tif', 'flows\\\\data_004_right0308.tif', 'flows\\\\data_004_right0309.tif', 'flows\\\\data_004_right0310.tif', 'flows\\\\data_004_right0311.tif', 'flows\\\\data_004_right0312.tif', 'flows\\\\data_004_right0313.tif', 'flows\\\\data_004_right0314.tif', 'flows\\\\data_004_right0315.tif', 'flows\\\\data_004_right0316.tif', 'flows\\\\data_004_right0317.tif', 'flows\\\\data_004_right0318.tif', 'flows\\\\data_004_right0319.tif', 'flows\\\\data_fixed_aug-30000.tif', 'flows\\\\data_fixed_aug-30001.tif', 'flows\\\\data_fixed_aug-30002.tif', 'flows\\\\data_fixed_aug-30003.tif', 'flows\\\\data_fixed_aug-30004.tif', 'flows\\\\data_fixed_aug-30005.tif', 'flows\\\\data_fixed_aug-30006.tif', 'flows\\\\data_fixed_aug-30007.tif', 'flows\\\\data_fixed_aug-30008.tif', 'flows\\\\data_fixed_aug-30009.tif', 'flows\\\\data_fixed_aug-30010.tif', 'flows\\\\data_fixed_aug-30011.tif', 'flows\\\\data_fixed_aug-30012.tif', 'flows\\\\data_fixed_aug-30013.tif', 'flows\\\\data_fixed_aug-30014.tif', 'flows\\\\data_fixed_aug-30015.tif', 'flows\\\\data_fixed_aug-30016.tif', 'flows\\\\data_fixed_aug-30017.tif', 'flows\\\\data_fixed_aug-30018.tif', 'flows\\\\data_fixed_aug-30019.tif', 'flows\\\\data_fixed_aug-30020.tif', 'flows\\\\data_fixed_aug-30021.tif', 'flows\\\\data_fixed_aug-30022.tif', 'flows\\\\data_fixed_aug-30023.tif', 'flows\\\\data_fixed_aug-30024.tif', 'flows\\\\data_fixed_aug-30025.tif', 'flows\\\\data_fixed_aug-30026.tif', 'flows\\\\data_fixed_aug-30027.tif', 'flows\\\\data_fixed_aug-30028.tif', 'flows\\\\data_fixed_aug-30029.tif', 'flows\\\\data_fixed_aug-30030.tif', 'flows\\\\data_fixed_aug-30031.tif', 'flows\\\\data_fixed_aug-30032.tif', 'flows\\\\data_fixed_aug-30033.tif', 'flows\\\\data_fixed_aug-30034.tif', 'flows\\\\data_fixed_aug-30035.tif', 'flows\\\\data_fixed_aug-30036.tif', 'flows\\\\data_fixed_aug-30037.tif', 'flows\\\\data_fixed_aug-30038.tif', 'flows\\\\data_fixed_aug-30039.tif', 'flows\\\\data_fixed_aug-30040.tif', 'flows\\\\data_fixed_aug-30041.tif', 'flows\\\\data_fixed_aug-30042.tif', 'flows\\\\data_fixed_aug-30043.tif', 'flows\\\\data_fixed_aug-30044.tif', 'flows\\\\data_fixed_aug-30045.tif', 'flows\\\\data_fixed_aug-30046.tif', 'flows\\\\data_fixed_aug-30047.tif', 'flows\\\\data_fixed_aug-30048.tif', 'flows\\\\data_fixed_aug-30049.tif', 'flows\\\\data_fixed_aug-30050.tif', 'flows\\\\data_fixed_aug-30051.tif', 'flows\\\\data_fixed_aug-30052.tif', 'flows\\\\data_fixed_aug-30053.tif', 'flows\\\\data_fixed_aug-30054.tif', 'flows\\\\data_fixed_aug-30055.tif', 'flows\\\\data_fixed_aug-30056.tif', 'flows\\\\data_fixed_aug-30057.tif', 'flows\\\\data_fixed_aug-30058.tif', 'flows\\\\data_fixed_aug-30059.tif', 'flows\\\\data_fixed_aug-30060.tif', 'flows\\\\data_fixed_aug-30061.tif', 'flows\\\\data_fixed_aug-30062.tif', 'flows\\\\data_fixed_aug-30063.tif', 'flows\\\\data_fixed_aug-30064.tif', 'flows\\\\data_fixed_aug-30065.tif', 'flows\\\\data_fixed_aug-30066.tif', 'flows\\\\data_fixed_aug-30067.tif', 'flows\\\\data_fixed_aug-30068.tif', 'flows\\\\data_fixed_aug-30069.tif', 'flows\\\\data_fixed_aug-30070.tif', 'flows\\\\data_fixed_aug-30071.tif', 'flows\\\\data_fixed_aug-30072.tif', 'flows\\\\data_fixed_aug-30073.tif', 'flows\\\\data_fixed_aug-30074.tif', 'flows\\\\data_fixed_aug-30075.tif', 'flows\\\\data_fixed_aug-30076.tif', 'flows\\\\data_fixed_aug-30077.tif', 'flows\\\\data_fixed_aug-30078.tif', 'flows\\\\data_fixed_aug-30079.tif', 'flows\\\\data_fixed_aug-30080.tif', 'flows\\\\data_fixed_aug-30081.tif', 'flows\\\\data_fixed_aug-30082.tif', 'flows\\\\data_fixed_aug-30083.tif', 'flows\\\\data_fixed_aug-30084.tif', 'flows\\\\data_fixed_aug-30085.tif', 'flows\\\\data_fixed_aug-30086.tif', 'flows\\\\data_fixed_aug-30087.tif', 'flows\\\\data_fixed_aug-30088.tif', 'flows\\\\data_fixed_aug-30089.tif', 'flows\\\\data_fixed_aug-30090.tif', 'flows\\\\data_fixed_aug-30091.tif', 'flows\\\\data_fixed_aug-30092.tif', 'flows\\\\data_fixed_aug-30093.tif', 'flows\\\\data_fixed_aug-30094.tif', 'flows\\\\data_fixed_aug-30095.tif', 'flows\\\\data_fixed_aug-30096.tif', 'flows\\\\data_fixed_aug-30097.tif', 'flows\\\\data_fixed_aug-30098.tif', 'flows\\\\data_fixed_aug-30099.tif', 'flows\\\\data_fixed_aug-30100.tif', 'flows\\\\data_fixed_aug-30101.tif', 'flows\\\\data_fixed_aug-30102.tif', 'flows\\\\data_fixed_aug-30103.tif', 'flows\\\\data_fixed_aug-30104.tif', 'flows\\\\data_fixed_aug-30105.tif', 'flows\\\\data_fixed_aug-30106.tif', 'flows\\\\data_fixed_aug-30107.tif', 'flows\\\\data_fixed_aug-30108.tif', 'flows\\\\data_fixed_aug-30109.tif', 'flows\\\\data_fixed_aug-30110.tif', 'flows\\\\data_fixed_aug-30111.tif', 'flows\\\\data_fixed_aug-30112.tif', 'flows\\\\data_fixed_aug-30113.tif', 'flows\\\\data_fixed_aug-30114.tif', 'flows\\\\data_fixed_aug-30115.tif', 'flows\\\\data_fixed_aug-30116.tif', 'flows\\\\data_fixed_aug-30117.tif', 'flows\\\\data_fixed_aug-30118.tif', 'flows\\\\data_fixed_aug-30119.tif', 'flows\\\\data_fixed_aug-30120.tif', 'flows\\\\data_fixed_aug-30121.tif', 'flows\\\\data_fixed_aug-30122.tif', 'flows\\\\data_fixed_aug-30123.tif', 'flows\\\\data_fixed_aug-30124.tif', 'flows\\\\data_fixed_aug-30125.tif', 'flows\\\\data_fixed_aug-30126.tif', 'flows\\\\data_fixed_aug-30127.tif', 'flows\\\\data_fixed_aug-30128.tif', 'flows\\\\data_fixed_aug-30129.tif', 'flows\\\\data_fixed_aug-30130.tif', 'flows\\\\data_fixed_aug-30131.tif', 'flows\\\\data_fixed_aug-30132.tif', 'flows\\\\data_fixed_aug-30133.tif', 'flows\\\\data_fixed_aug-30134.tif', 'flows\\\\data_fixed_aug-30135.tif', 'flows\\\\data_fixed_aug-30136.tif', 'flows\\\\data_fixed_aug-30137.tif', 'flows\\\\data_fixed_aug-30138.tif', 'flows\\\\data_fixed_aug-30139.tif', 'flows\\\\data_fixed_aug-30140.tif', 'flows\\\\data_fixed_aug-30141.tif', 'flows\\\\data_fixed_aug-30142.tif', 'flows\\\\data_fixed_aug-30143.tif', 'flows\\\\data_fixed_aug-30144.tif', 'flows\\\\data_fixed_aug-30145.tif', 'flows\\\\data_fixed_aug-30146.tif', 'flows\\\\data_fixed_aug-30147.tif', 'flows\\\\data_fixed_aug-30148.tif', 'flows\\\\data_fixed_aug-30149.tif', 'flows\\\\data_fixed_aug-30150.tif', 'flows\\\\data_fixed_aug-30151.tif', 'flows\\\\data_fixed_aug-30152.tif', 'flows\\\\data_fixed_aug-30153.tif', 'flows\\\\data_fixed_aug-30154.tif', 'flows\\\\data_fixed_aug-30155.tif', 'flows\\\\data_fixed_aug-30156.tif', 'flows\\\\data_fixed_aug-30157.tif', 'flows\\\\data_fixed_aug-30158.tif', 'flows\\\\data_fixed_aug-30159.tif', 'flows\\\\data_fixed_aug-30160.tif', 'flows\\\\data_fixed_aug-30161.tif', 'flows\\\\data_fixed_aug-30162.tif', 'flows\\\\data_fixed_aug-30163.tif', 'flows\\\\data_fixed_aug-30164.tif', 'flows\\\\data_fixed_aug-30165.tif', 'flows\\\\data_fixed_aug-30166.tif', 'flows\\\\data_fixed_aug-30167.tif', 'flows\\\\data_fixed_aug-30168.tif', 'flows\\\\data_fixed_aug-30169.tif', 'flows\\\\data_fixed_aug-30170.tif', 'flows\\\\data_fixed_aug-30171.tif', 'flows\\\\data_fixed_aug-30172.tif', 'flows\\\\data_fixed_aug-30173.tif', 'flows\\\\data_fixed_aug-30174.tif', 'flows\\\\data_fixed_aug-30175.tif', 'flows\\\\data_fixed_aug-30176.tif', 'flows\\\\data_fixed_aug-30177.tif', 'flows\\\\data_fixed_aug-30178.tif', 'flows\\\\data_fixed_aug-30179.tif', 'flows\\\\data_fixed_aug-30180.tif', 'flows\\\\data_fixed_aug-30181.tif', 'flows\\\\data_fixed_aug-30182.tif', 'flows\\\\data_fixed_aug-30183.tif', 'flows\\\\data_fixed_aug-30184.tif', 'flows\\\\data_fixed_aug-30185.tif', 'flows\\\\data_fixed_aug-30186.tif', 'flows\\\\data_fixed_aug-30187.tif', 'flows\\\\data_fixed_aug-30188.tif', 'flows\\\\data_fixed_aug-30189.tif', 'flows\\\\data_fixed_aug-30190.tif', 'flows\\\\data_fixed_aug-30191.tif', 'flows\\\\data_fixed_aug-30192.tif', 'flows\\\\data_fixed_aug-30193.tif', 'flows\\\\data_fixed_aug-30194.tif', 'flows\\\\data_fixed_aug-30195.tif', 'flows\\\\data_fixed_aug-30196.tif', 'flows\\\\data_fixed_aug-30197.tif', 'flows\\\\data_fixed_aug-30198.tif', 'flows\\\\data_fixed_aug-30199.tif', 'flows\\\\data_fixed_aug-30200.tif', 'flows\\\\data_fixed_aug-30201.tif', 'flows\\\\data_fixed_aug-30202.tif', 'flows\\\\data_fixed_aug-30203.tif', 'flows\\\\data_fixed_aug-30204.tif', 'flows\\\\data_fixed_aug-30205.tif', 'flows\\\\data_fixed_aug-30206.tif', 'flows\\\\data_fixed_aug-30207.tif', 'flows\\\\data_fixed_aug-30208.tif', 'flows\\\\data_fixed_aug-30209.tif', 'flows\\\\data_fixed_aug-30210.tif', 'flows\\\\data_fixed_aug-30211.tif', 'flows\\\\data_fixed_aug-30212.tif', 'flows\\\\data_fixed_aug-30213.tif', 'flows\\\\data_fixed_aug-30214.tif', 'flows\\\\data_fixed_aug-30215.tif', 'flows\\\\data_fixed_aug-30216.tif', 'flows\\\\data_fixed_aug-30217.tif', 'flows\\\\data_fixed_aug-30218.tif', 'flows\\\\data_fixed_aug-30219.tif', 'flows\\\\data_fixed_aug-30220.tif', 'flows\\\\data_fixed_aug-30221.tif', 'flows\\\\data_fixed_aug-30222.tif', 'flows\\\\data_fixed_aug-30223.tif', 'flows\\\\data_fixed_aug-30224.tif', 'flows\\\\data_fixed_aug-30225.tif', 'flows\\\\data_fixed_aug-30226.tif', 'flows\\\\data_fixed_aug-30227.tif', 'flows\\\\data_fixed_aug-30228.tif', 'flows\\\\data_fixed_aug-30229.tif', 'flows\\\\data_fixed_aug-30230.tif', 'flows\\\\data_fixed_aug-30231.tif', 'flows\\\\data_fixed_aug-30232.tif', 'flows\\\\data_fixed_aug-30233.tif', 'flows\\\\data_fixed_aug-30234.tif', 'flows\\\\data_fixed_aug-30235.tif', 'flows\\\\data_fixed_aug-30236.tif', 'flows\\\\data_fixed_aug-30237.tif', 'flows\\\\data_fixed_aug-30238.tif', 'flows\\\\data_fixed_aug-30239.tif', 'flows\\\\data_fixed_aug-30240.tif', 'flows\\\\data_fixed_aug-30241.tif', 'flows\\\\data_fixed_aug-30242.tif', 'flows\\\\data_fixed_aug-30243.tif', 'flows\\\\data_fixed_aug-30244.tif', 'flows\\\\data_fixed_aug-30245.tif', 'flows\\\\data_fixed_aug-30246.tif', 'flows\\\\data_fixed_aug-30247.tif', 'flows\\\\data_fixed_aug-30248.tif', 'flows\\\\data_fixed_aug-30249.tif', 'flows\\\\data_fixed_aug-30250.tif', 'flows\\\\data_fixed_aug-30251.tif', 'flows\\\\data_fixed_aug-30252.tif', 'flows\\\\data_fixed_aug-30253.tif', 'flows\\\\data_fixed_aug-30254.tif', 'flows\\\\data_fixed_aug-30255.tif', 'flows\\\\data_fixed_aug-30256.tif', 'flows\\\\data_fixed_aug-30257.tif', 'flows\\\\data_fixed_aug-30258.tif', 'flows\\\\data_fixed_aug-30259.tif', 'flows\\\\data_fixed_aug-30260.tif', 'flows\\\\data_fixed_aug-30261.tif', 'flows\\\\data_fixed_aug-30262.tif', 'flows\\\\data_fixed_aug-30263.tif', 'flows\\\\data_fixed_aug-30264.tif', 'flows\\\\data_fixed_aug-30265.tif', 'flows\\\\data_fixed_aug-30266.tif', 'flows\\\\data_fixed_aug-30267.tif', 'flows\\\\data_fixed_aug-30268.tif', 'flows\\\\data_fixed_aug-30269.tif', 'flows\\\\data_fixed_aug-30270.tif', 'flows\\\\data_fixed_aug-30271.tif', 'flows\\\\data_fixed_aug-30272.tif', 'flows\\\\data_fixed_aug-30273.tif', 'flows\\\\data_fixed_aug-30274.tif', 'flows\\\\data_fixed_aug-30275.tif', 'flows\\\\data_fixed_aug-30276.tif', 'flows\\\\data_fixed_aug-30277.tif', 'flows\\\\data_fixed_aug-30278.tif', 'flows\\\\data_fixed_aug-30279.tif', 'flows\\\\data_fixed_aug-30280.tif', 'flows\\\\data_fixed_aug-30281.tif', 'flows\\\\data_fixed_aug-30282.tif', 'flows\\\\data_fixed_aug-30283.tif', 'flows\\\\data_fixed_aug-30284.tif', 'flows\\\\data_fixed_aug-30285.tif', 'flows\\\\data_fixed_aug-30286.tif', 'flows\\\\data_fixed_aug-30287.tif', 'flows\\\\data_fixed_aug-30288.tif', 'flows\\\\data_fixed_aug-30289.tif', 'flows\\\\data_fixed_aug-30290.tif', 'flows\\\\data_fixed_aug-30291.tif', 'flows\\\\data_fixed_aug-30292.tif', 'flows\\\\data_fixed_aug-30293.tif', 'flows\\\\data_fixed_aug-30294.tif', 'flows\\\\data_fixed_aug-30295.tif', 'flows\\\\data_fixed_aug-30296.tif', 'flows\\\\data_fixed_aug-30297.tif', 'flows\\\\data_fixed_aug-30298.tif', 'flows\\\\data_fixed_aug-30299.tif', 'flows\\\\data_fixed_aug-30300.tif', 'flows\\\\data_fixed_aug-30301.tif', 'flows\\\\data_fixed_aug-30302.tif', 'flows\\\\data_fixed_aug-30303.tif', 'flows\\\\data_fixed_aug-30304.tif', 'flows\\\\data_fixed_aug-30305.tif', 'flows\\\\data_fixed_aug-30306.tif', 'flows\\\\data_fixed_aug-30307.tif', 'flows\\\\data_fixed_aug-30308.tif', 'flows\\\\data_fixed_aug-30309.tif', 'flows\\\\data_fixed_aug-30310.tif', 'flows\\\\data_fixed_aug-30311.tif', 'flows\\\\data_fixed_aug-30312.tif', 'flows\\\\data_fixed_aug-30313.tif', 'flows\\\\data_fixed_aug-30314.tif', 'flows\\\\data_fixed_aug-30315.tif', 'flows\\\\data_fixed_aug-30316.tif', 'flows\\\\data_fixed_aug-30317.tif', 'flows\\\\data_fixed_aug-30318.tif', 'flows\\\\data_fixed_aug-30319.tif', 'flows\\\\data_fixed_aug-30320.tif', 'flows\\\\data_fixed_aug-30321.tif', 'flows\\\\data_fixed_aug-30322.tif', 'flows\\\\data_fixed_aug-30323.tif', 'flows\\\\data_fixed_aug-30324.tif', 'flows\\\\data_fixed_aug-30325.tif', 'flows\\\\data_fixed_aug-30326.tif', 'flows\\\\data_fixed_aug-30327.tif', 'flows\\\\data_fixed_aug-30328.tif', 'flows\\\\data_fixed_aug-30329.tif', 'flows\\\\data_fixed_aug-30330.tif', 'flows\\\\data_fixed_aug-30331.tif', 'flows\\\\data_fixed_aug-30332.tif', 'flows\\\\data_fixed_aug-30333.tif', 'flows\\\\data_fixed_aug-30334.tif', 'flows\\\\data_fixed_aug-30335.tif', 'flows\\\\data_fixed_aug-30336.tif', 'flows\\\\data_fixed_aug-30337.tif', 'flows\\\\data_fixed_aug-30338.tif', 'flows\\\\data_fixed_aug-30339.tif', 'flows\\\\data_fixed_aug-30340.tif', 'flows\\\\data_fixed_aug-30341.tif', 'flows\\\\data_fixed_aug-30342.tif', 'flows\\\\data_fixed_aug-30343.tif', 'flows\\\\data_fixed_aug-30344.tif', 'flows\\\\data_fixed_aug-30345.tif', 'flows\\\\data_fixed_aug-30346.tif', 'flows\\\\data_fixed_aug-30347.tif', 'flows\\\\data_fixed_aug-30348.tif', 'flows\\\\data_fixed_aug-30349.tif', 'flows\\\\data_fixed_aug-30350.tif', 'flows\\\\data_fixed_aug-30351.tif', 'flows\\\\data_fixed_aug-30352.tif', 'flows\\\\data_fixed_aug-30353.tif', 'flows\\\\data_fixed_aug-30354.tif', 'flows\\\\data_fixed_aug-30355.tif', 'flows\\\\data_fixed_aug-30356.tif', 'flows\\\\data_fixed_aug-30357.tif', 'flows\\\\data_fixed_aug-30358.tif', 'flows\\\\data_fixed_aug-30359.tif', 'flows\\\\data_fixed_aug-30360.tif', 'flows\\\\data_fixed_aug-30361.tif', 'flows\\\\data_fixed_aug-30362.tif', 'flows\\\\data_fixed_aug-30363.tif', 'flows\\\\data_fixed_aug-30364.tif', 'flows\\\\data_fixed_aug-30365.tif', 'flows\\\\data_fixed_aug-30366.tif', 'flows\\\\data_fixed_aug-30367.tif', 'flows\\\\data_fixed_aug-30368.tif', 'flows\\\\data_fixed_aug-30369.tif', 'flows\\\\data_fixed_aug-30370.tif', 'flows\\\\data_fixed_aug-30371.tif', 'flows\\\\data_fixed_aug-30372.tif', 'flows\\\\data_fixed_aug-30373.tif', 'flows\\\\data_fixed_aug-30374.tif', 'flows\\\\data_fixed_aug-30375.tif', 'flows\\\\data_fixed_aug-30376.tif', 'flows\\\\data_fixed_aug-30377.tif', 'flows\\\\data_fixed_aug-30378.tif', 'flows\\\\data_fixed_aug-30379.tif', 'flows\\\\data_fixed_aug-30380.tif', 'flows\\\\data_fixed_aug-30381.tif', 'flows\\\\data_fixed_aug-30382.tif', 'flows\\\\data_fixed_aug-30383.tif', 'flows\\\\data_fixed_aug-30384.tif', 'flows\\\\data_fixed_aug-30385.tif', 'flows\\\\data_fixed_aug-30386.tif', 'flows\\\\data_fixed_aug-30387.tif', 'flows\\\\data_fixed_aug-30388.tif', 'flows\\\\data_fixed_aug-30389.tif', 'flows\\\\data_fixed_aug-30390.tif', 'flows\\\\data_fixed_aug-30391.tif', 'flows\\\\data_fixed_aug-30392.tif', 'flows\\\\data_fixed_aug-30393.tif', 'flows\\\\data_fixed_aug-30394.tif', 'flows\\\\data_fixed_aug-30395.tif', 'flows\\\\data_fixed_aug-30396.tif', 'flows\\\\data_fixed_aug-30397.tif', 'flows\\\\data_fixed_aug-30398.tif', 'flows\\\\data_fixed_aug-30399.tif', 'flows\\\\data_fixed_aug-30400.tif', 'flows\\\\data_fixed_aug-30401.tif', 'flows\\\\data_fixed_aug-30402.tif', 'flows\\\\data_fixed_aug-30403.tif', 'flows\\\\data_fixed_aug-30404.tif', 'flows\\\\data_fixed_aug-30405.tif', 'flows\\\\data_fixed_aug-30406.tif', 'flows\\\\data_fixed_aug-30407.tif', 'flows\\\\data_fixed_aug-30408.tif', 'flows\\\\data_fixed_aug-30409.tif', 'flows\\\\data_fixed_aug-30410.tif', 'flows\\\\data_fixed_aug-30411.tif', 'flows\\\\data_fixed_aug-30412.tif', 'flows\\\\data_fixed_aug-30413.tif', 'flows\\\\data_fixed_aug-30414.tif', 'flows\\\\data_fixed_aug-30415.tif', 'flows\\\\data_fixed_aug-30416.tif', 'flows\\\\data_fixed_aug-30417.tif', 'flows\\\\data_fixed_aug-30418.tif', 'flows\\\\data_fixed_aug-30419.tif', 'flows\\\\data_fixed_aug-30420.tif', 'flows\\\\data_fixed_aug-30421.tif', 'flows\\\\data_fixed_aug-30422.tif', 'flows\\\\data_fixed_aug-30423.tif', 'flows\\\\data_fixed_aug-30424.tif', 'flows\\\\data_fixed_aug-30425.tif', 'flows\\\\data_fixed_aug-30426.tif', 'flows\\\\data_fixed_aug-30427.tif', 'flows\\\\data_fixed_aug-30428.tif', 'flows\\\\data_fixed_aug-30429.tif', 'flows\\\\data_fixed_aug-30430.tif', 'flows\\\\data_fixed_aug-30431.tif', 'flows\\\\retrain_aug_d200000.tif', 'flows\\\\retrain_aug_d200001.tif', 'flows\\\\retrain_aug_d200002.tif', 'flows\\\\retrain_aug_d200003.tif', 'flows\\\\retrain_aug_d200004.tif', 'flows\\\\retrain_aug_d200005.tif', 'flows\\\\retrain_aug_d200006.tif', 'flows\\\\retrain_aug_d200007.tif', 'flows\\\\retrain_aug_d200008.tif', 'flows\\\\retrain_aug_d200009.tif', 'flows\\\\retrain_aug_d200010.tif', 'flows\\\\retrain_aug_d200011.tif', 'flows\\\\retrain_aug_d200012.tif', 'flows\\\\retrain_aug_d200013.tif', 'flows\\\\retrain_aug_d200014.tif', 'flows\\\\retrain_aug_d200015.tif', 'flows\\\\retrain_aug_d200016.tif', 'flows\\\\retrain_aug_d200017.tif', 'flows\\\\retrain_aug_d200018.tif', 'flows\\\\retrain_aug_d200019.tif', 'flows\\\\retrain_aug_d200020.tif', 'flows\\\\retrain_aug_d200021.tif', 'flows\\\\retrain_aug_d200022.tif', 'flows\\\\retrain_aug_d200023.tif', 'flows\\\\retrain_aug_d200024.tif', 'flows\\\\retrain_aug_d200025.tif', 'flows\\\\retrain_aug_d200026.tif', 'flows\\\\retrain_aug_d200027.tif', 'flows\\\\retrain_aug_d200028.tif', 'flows\\\\retrain_aug_d200029.tif', 'flows\\\\retrain_aug_d200030.tif', 'flows\\\\retrain_aug_d200031.tif', 'flows\\\\retrain_aug_d200032.tif', 'flows\\\\retrain_aug_d200033.tif', 'flows\\\\retrain_aug_d200034.tif', 'flows\\\\retrain_aug_d200035.tif', 'flows\\\\retrain_aug_d200036.tif', 'flows\\\\retrain_aug_d200037.tif', 'flows\\\\retrain_aug_d200038.tif', 'flows\\\\retrain_aug_d200039.tif', 'flows\\\\retrain_aug_d200040.tif', 'flows\\\\retrain_aug_d200041.tif', 'flows\\\\retrain_aug_d200042.tif', 'flows\\\\retrain_aug_d200043.tif', 'flows\\\\retrain_aug_d200044.tif', 'flows\\\\retrain_aug_d200045.tif', 'flows\\\\retrain_aug_d200046.tif', 'flows\\\\retrain_aug_d200047.tif', 'flows\\\\retrain_aug_d200048.tif', 'flows\\\\retrain_aug_d200049.tif', 'flows\\\\retrain_aug_d200050.tif', 'flows\\\\retrain_aug_d200051.tif', 'flows\\\\retrain_aug_d200052.tif', 'flows\\\\retrain_aug_d200053.tif', 'flows\\\\retrain_aug_d200054.tif', 'flows\\\\retrain_aug_d200055.tif', 'flows\\\\retrain_aug_d200056.tif', 'flows\\\\retrain_aug_d200057.tif', 'flows\\\\retrain_aug_d200058.tif', 'flows\\\\retrain_aug_d200059.tif', 'flows\\\\retrain_aug_d200060.tif', 'flows\\\\retrain_aug_d200061.tif', 'flows\\\\retrain_aug_d200062.tif', 'flows\\\\retrain_aug_d200063.tif', 'flows\\\\retrain_aug_d200064.tif', 'flows\\\\retrain_aug_d200065.tif', 'flows\\\\retrain_aug_d200066.tif', 'flows\\\\retrain_aug_d200067.tif', 'flows\\\\retrain_aug_d200068.tif', 'flows\\\\retrain_aug_d200069.tif', 'flows\\\\retrain_aug_d200070.tif', 'flows\\\\retrain_aug_d200071.tif', 'flows\\\\retrain_aug_d200072.tif', 'flows\\\\retrain_aug_d200073.tif', 'flows\\\\retrain_aug_d200074.tif', 'flows\\\\retrain_aug_d200075.tif', 'flows\\\\retrain_aug_d200076.tif', 'flows\\\\retrain_aug_d200077.tif', 'flows\\\\retrain_aug_d200078.tif', 'flows\\\\retrain_aug_d200079.tif', 'flows\\\\retrain_aug_d200080.tif', 'flows\\\\retrain_aug_d200081.tif', 'flows\\\\retrain_aug_d200082.tif', 'flows\\\\retrain_aug_d200083.tif', 'flows\\\\retrain_aug_d200084.tif', 'flows\\\\retrain_aug_d200085.tif', 'flows\\\\retrain_aug_d200086.tif', 'flows\\\\retrain_aug_d200087.tif', 'flows\\\\retrain_aug_d200088.tif', 'flows\\\\retrain_aug_d200089.tif', 'flows\\\\retrain_aug_d200090.tif', 'flows\\\\retrain_aug_d200091.tif', 'flows\\\\retrain_aug_d200092.tif', 'flows\\\\retrain_aug_d200093.tif', 'flows\\\\retrain_aug_d200094.tif', 'flows\\\\retrain_aug_d200095.tif', 'flows\\\\retrain_aug_d200096.tif', 'flows\\\\retrain_aug_d200097.tif', 'flows\\\\retrain_aug_d200098.tif', 'flows\\\\retrain_aug_d200099.tif', 'flows\\\\retrain_aug_d200100.tif', 'flows\\\\retrain_aug_d200101.tif', 'flows\\\\retrain_aug_d200102.tif', 'flows\\\\retrain_aug_d200103.tif', 'flows\\\\retrain_aug_d200104.tif', 'flows\\\\retrain_aug_d200105.tif', 'flows\\\\retrain_aug_d200106.tif', 'flows\\\\retrain_aug_d200107.tif', 'flows\\\\retrain_aug_d200108.tif', 'flows\\\\retrain_aug_d200109.tif', 'flows\\\\retrain_aug_d200110.tif', 'flows\\\\retrain_aug_d200111.tif', 'flows\\\\retrain_aug_d200112.tif', 'flows\\\\retrain_aug_d200113.tif', 'flows\\\\retrain_aug_d200114.tif', 'flows\\\\retrain_aug_d200115.tif', 'flows\\\\retrain_aug_d200116.tif', 'flows\\\\retrain_aug_d200117.tif', 'flows\\\\retrain_aug_d200118.tif', 'flows\\\\retrain_aug_d200119.tif', 'flows\\\\retrain_aug_d200120.tif', 'flows\\\\retrain_aug_d200121.tif', 'flows\\\\retrain_aug_d200122.tif', 'flows\\\\retrain_aug_d200123.tif', 'flows\\\\retrain_aug_d200124.tif', 'flows\\\\retrain_aug_d200125.tif', 'flows\\\\retrain_aug_d200126.tif', 'flows\\\\retrain_aug_d200127.tif', 'flows\\\\retrain_aug_d200128.tif', 'flows\\\\retrain_aug_d200129.tif', 'flows\\\\retrain_aug_d200130.tif', 'flows\\\\retrain_aug_d200131.tif', 'flows\\\\retrain_aug_d200132.tif', 'flows\\\\retrain_aug_d200133.tif', 'flows\\\\retrain_aug_d200134.tif', 'flows\\\\retrain_aug_d200135.tif', 'flows\\\\retrain_aug_d200136.tif', 'flows\\\\retrain_aug_d200137.tif', 'flows\\\\retrain_aug_d200138.tif', 'flows\\\\retrain_aug_d200139.tif', 'flows\\\\retrain_aug_d200140.tif', 'flows\\\\retrain_aug_d200141.tif', 'flows\\\\retrain_aug_d200142.tif', 'flows\\\\retrain_aug_d200143.tif', 'flows\\\\retrain_aug_d200144.tif', 'flows\\\\retrain_aug_d200145.tif', 'flows\\\\retrain_aug_d200146.tif', 'flows\\\\retrain_aug_d200147.tif', 'flows\\\\retrain_aug_d200148.tif', 'flows\\\\retrain_aug_d200149.tif', 'flows\\\\retrain_aug_d200150.tif', 'flows\\\\retrain_aug_d200151.tif', 'flows\\\\retrain_aug_d200152.tif', 'flows\\\\retrain_aug_d200153.tif', 'flows\\\\retrain_aug_d200154.tif', 'flows\\\\retrain_aug_d200155.tif', 'flows\\\\retrain_aug_d200156.tif', 'flows\\\\retrain_aug_d200157.tif', 'flows\\\\retrain_aug_d200158.tif', 'flows\\\\retrain_aug_d200159.tif', 'flows\\\\retrain_aug_d200160.tif', 'flows\\\\retrain_aug_d200161.tif', 'flows\\\\retrain_aug_d200162.tif', 'flows\\\\retrain_aug_d200163.tif', 'flows\\\\retrain_aug_d200164.tif', 'flows\\\\retrain_aug_d200165.tif', 'flows\\\\retrain_aug_d200166.tif', 'flows\\\\retrain_aug_d200167.tif', 'flows\\\\retrain_aug_d200168.tif', 'flows\\\\retrain_aug_d200169.tif', 'flows\\\\retrain_aug_d200170.tif', 'flows\\\\retrain_aug_d200171.tif', 'flows\\\\retrain_aug_d200172.tif', 'flows\\\\retrain_aug_d200173.tif', 'flows\\\\retrain_aug_d200174.tif', 'flows\\\\retrain_aug_d200175.tif', 'flows\\\\retrain_aug_d200176.tif', 'flows\\\\retrain_aug_d200177.tif', 'flows\\\\retrain_aug_d200178.tif', 'flows\\\\retrain_aug_d200179.tif', 'flows\\\\retrain_aug_d200180.tif', 'flows\\\\retrain_aug_d200181.tif', 'flows\\\\retrain_aug_d200182.tif', 'flows\\\\retrain_aug_d200183.tif', 'flows\\\\retrain_aug_d200184.tif', 'flows\\\\retrain_aug_d200185.tif', 'flows\\\\retrain_aug_d200186.tif', 'flows\\\\retrain_aug_d200187.tif', 'flows\\\\retrain_aug_d200188.tif', 'flows\\\\retrain_aug_d200189.tif', 'flows\\\\retrain_aug_d200190.tif', 'flows\\\\retrain_aug_d200191.tif', 'flows\\\\retrain_aug_d200192.tif', 'flows\\\\retrain_aug_d200193.tif', 'flows\\\\retrain_aug_d200194.tif', 'flows\\\\retrain_aug_d200195.tif', 'flows\\\\retrain_aug_d200196.tif', 'flows\\\\retrain_aug_d200197.tif', 'flows\\\\retrain_aug_d200198.tif', 'flows\\\\retrain_aug_d200199.tif', 'flows\\\\retrain_aug_d200200.tif', 'flows\\\\retrain_aug_d200201.tif', 'flows\\\\retrain_aug_d200202.tif', 'flows\\\\retrain_aug_d200203.tif', 'flows\\\\retrain_aug_d200204.tif', 'flows\\\\retrain_aug_d200205.tif', 'flows\\\\retrain_aug_d200206.tif', 'flows\\\\retrain_aug_d200207.tif', 'flows\\\\retrain_aug_d200208.tif', 'flows\\\\retrain_aug_d200209.tif', 'flows\\\\retrain_aug_d200210.tif', 'flows\\\\retrain_aug_d200211.tif', 'flows\\\\retrain_aug_d200212.tif', 'flows\\\\retrain_aug_d200213.tif', 'flows\\\\retrain_aug_d200214.tif', 'flows\\\\retrain_aug_d200215.tif', 'flows\\\\retrain_aug_d200216.tif', 'flows\\\\retrain_aug_d200217.tif', 'flows\\\\retrain_aug_d200218.tif', 'flows\\\\retrain_aug_d200219.tif', 'flows\\\\retrain_aug_d200220.tif', 'flows\\\\retrain_aug_d200221.tif', 'flows\\\\retrain_aug_d200222.tif', 'flows\\\\retrain_aug_d200223.tif', 'flows\\\\retrain_aug_d200224.tif', 'flows\\\\retrain_aug_d200225.tif', 'flows\\\\retrain_aug_d200226.tif', 'flows\\\\retrain_aug_d200227.tif', 'flows\\\\retrain_aug_d200228.tif', 'flows\\\\retrain_aug_d200229.tif', 'flows\\\\retrain_aug_d200230.tif', 'flows\\\\retrain_aug_d200231.tif', 'flows\\\\retrain_aug_d200232.tif', 'flows\\\\retrain_aug_d200233.tif', 'flows\\\\retrain_aug_d200234.tif', 'flows\\\\retrain_aug_d200235.tif', 'flows\\\\retrain_aug_d200236.tif', 'flows\\\\retrain_aug_d200237.tif', 'flows\\\\retrain_aug_d200238.tif', 'flows\\\\retrain_aug_d200239.tif', 'flows\\\\retrain_aug_d200240.tif', 'flows\\\\retrain_aug_d200241.tif', 'flows\\\\retrain_aug_d200242.tif', 'flows\\\\retrain_aug_d200243.tif', 'flows\\\\retrain_aug_d200244.tif', 'flows\\\\retrain_aug_d200245.tif', 'flows\\\\retrain_aug_d200246.tif', 'flows\\\\retrain_aug_d200247.tif', 'flows\\\\retrain_aug_d200248.tif', 'flows\\\\retrain_aug_d200249.tif', 'flows\\\\retrain_aug_d200250.tif', 'flows\\\\retrain_aug_d200251.tif', 'flows\\\\retrain_aug_d200252.tif', 'flows\\\\retrain_aug_d200253.tif', 'flows\\\\retrain_aug_d200254.tif', 'flows\\\\retrain_aug_d200255.tif', 'flows\\\\retrain_aug_d200256.tif', 'flows\\\\retrain_aug_d200257.tif', 'flows\\\\retrain_aug_d200258.tif', 'flows\\\\retrain_aug_d200259.tif', 'flows\\\\retrain_aug_d200260.tif', 'flows\\\\retrain_aug_d200261.tif', 'flows\\\\retrain_aug_d200262.tif', 'flows\\\\retrain_aug_d200263.tif', 'flows\\\\retrain_aug_d200264.tif', 'flows\\\\retrain_aug_d200265.tif', 'flows\\\\retrain_aug_d200266.tif', 'flows\\\\retrain_aug_d200267.tif', 'flows\\\\retrain_aug_d200268.tif', 'flows\\\\retrain_aug_d200269.tif', 'flows\\\\retrain_aug_d200270.tif', 'flows\\\\retrain_aug_d200271.tif', 'flows\\\\retrain_aug_d200272.tif', 'flows\\\\retrain_aug_d200273.tif', 'flows\\\\retrain_aug_d200274.tif', 'flows\\\\retrain_aug_d200275.tif', 'flows\\\\retrain_aug_d200276.tif', 'flows\\\\retrain_aug_d200277.tif', 'flows\\\\retrain_aug_d200278.tif', 'flows\\\\retrain_aug_d200279.tif', 'flows\\\\retrain_aug_d200280.tif', 'flows\\\\retrain_aug_d200281.tif', 'flows\\\\retrain_aug_d200282.tif', 'flows\\\\retrain_aug_d200283.tif', 'flows\\\\retrain_aug_d200284.tif', 'flows\\\\retrain_aug_d200285.tif', 'flows\\\\retrain_aug_d200286.tif', 'flows\\\\retrain_aug_d200287.tif', 'flows\\\\retrain_aug_d200288.tif', 'flows\\\\retrain_aug_d200289.tif', 'flows\\\\retrain_aug_d200290.tif', 'flows\\\\retrain_aug_d200291.tif', 'flows\\\\retrain_aug_d200292.tif', 'flows\\\\retrain_aug_d200293.tif', 'flows\\\\retrain_aug_d200294.tif', 'flows\\\\retrain_aug_d200295.tif', 'flows\\\\retrain_aug_d200296.tif', 'flows\\\\retrain_aug_d200297.tif', 'flows\\\\retrain_aug_d200298.tif', 'flows\\\\retrain_aug_d200299.tif', 'flows\\\\retrain_aug_d200300.tif', 'flows\\\\retrain_aug_d200301.tif', 'flows\\\\retrain_aug_d200302.tif', 'flows\\\\retrain_aug_d200303.tif', 'flows\\\\retrain_aug_d200304.tif', 'flows\\\\retrain_aug_d200305.tif', 'flows\\\\retrain_aug_d200306.tif', 'flows\\\\retrain_aug_d200307.tif', 'flows\\\\retrain_aug_d200308.tif', 'flows\\\\retrain_aug_d200309.tif', 'flows\\\\retrain_aug_d200310.tif', 'flows\\\\retrain_aug_d200311.tif', 'flows\\\\retrain_aug_d200312.tif', 'flows\\\\retrain_aug_d200313.tif', 'flows\\\\retrain_aug_d200314.tif', 'flows\\\\retrain_aug_d200315.tif', 'flows\\\\retrain_aug_d200316.tif', 'flows\\\\retrain_aug_d200317.tif', 'flows\\\\retrain_aug_d200318.tif', 'flows\\\\retrain_aug_d200319.tif', 'flows\\\\retrain_aug_d200320.tif', 'flows\\\\retrain_aug_d200321.tif', 'flows\\\\retrain_aug_d200322.tif', 'flows\\\\retrain_aug_d200323.tif', 'flows\\\\retrain_aug_d200324.tif', 'flows\\\\retrain_aug_d200325.tif', 'flows\\\\retrain_aug_d200326.tif', 'flows\\\\retrain_aug_d200327.tif', 'flows\\\\retrain_aug_d200328.tif', 'flows\\\\retrain_aug_d200329.tif', 'flows\\\\retrain_aug_d200330.tif', 'flows\\\\retrain_aug_d200331.tif', 'flows\\\\retrain_aug_d200332.tif', 'flows\\\\retrain_aug_d200333.tif', 'flows\\\\retrain_aug_d200334.tif', 'flows\\\\retrain_aug_d200335.tif', 'flows\\\\retrain_aug_d200336.tif', 'flows\\\\retrain_aug_d200337.tif', 'flows\\\\retrain_aug_d200338.tif', 'flows\\\\retrain_aug_d200339.tif', 'flows\\\\retrain_aug_d200340.tif', 'flows\\\\retrain_aug_d200341.tif', 'flows\\\\retrain_aug_d200342.tif', 'flows\\\\retrain_aug_d200343.tif', 'flows\\\\retrain_aug_d200344.tif', 'flows\\\\retrain_aug_d200345.tif', 'flows\\\\retrain_aug_d200346.tif', 'flows\\\\retrain_aug_d200347.tif', 'flows\\\\retrain_aug_d200348.tif', 'flows\\\\retrain_aug_d200349.tif', 'flows\\\\retrain_aug_d200350.tif', 'flows\\\\retrain_aug_d200351.tif', 'flows\\\\retrain_aug_d200352.tif', 'flows\\\\retrain_aug_d200353.tif', 'flows\\\\retrain_aug_d200354.tif', 'flows\\\\retrain_aug_d200355.tif', 'flows\\\\retrain_aug_d200356.tif', 'flows\\\\retrain_aug_d200357.tif', 'flows\\\\retrain_aug_d200358.tif', 'flows\\\\retrain_aug_d200359.tif', 'flows\\\\retrain_aug_d200360.tif', 'flows\\\\retrain_aug_d200361.tif', 'flows\\\\retrain_aug_d200362.tif', 'flows\\\\retrain_aug_d200363.tif', 'flows\\\\retrain_aug_d200364.tif', 'flows\\\\retrain_aug_d200365.tif', 'flows\\\\retrain_aug_d200366.tif', 'flows\\\\retrain_aug_d200367.tif', 'flows\\\\retrain_aug_d200368.tif', 'flows\\\\retrain_aug_d200369.tif', 'flows\\\\retrain_aug_d200370.tif', 'flows\\\\retrain_aug_d200371.tif', 'flows\\\\retrain_aug_d200372.tif', 'flows\\\\retrain_aug_d200373.tif', 'flows\\\\retrain_aug_d200374.tif', 'flows\\\\retrain_aug_d200375.tif', 'flows\\\\retrain_aug_d200376.tif', 'flows\\\\retrain_aug_d200377.tif', 'flows\\\\retrain_aug_d200378.tif', 'flows\\\\retrain_aug_d200379.tif', 'flows\\\\retrain_aug_d200380.tif', 'flows\\\\retrain_aug_d200381.tif', 'flows\\\\retrain_aug_d200382.tif', 'flows\\\\retrain_aug_d200383.tif', 'flows\\\\retrain_aug_d200384.tif', 'flows\\\\retrain_aug_d200385.tif', 'flows\\\\retrain_aug_d200386.tif', 'flows\\\\retrain_aug_d200387.tif', 'flows\\\\retrain_aug_d200388.tif', 'flows\\\\retrain_aug_d200389.tif', 'flows\\\\retrain_aug_d200390.tif', 'flows\\\\retrain_aug_d200391.tif', 'flows\\\\retrain_aug_d200392.tif', 'flows\\\\retrain_aug_d200393.tif', 'flows\\\\retrain_aug_d200394.tif', 'flows\\\\retrain_aug_d200395.tif', 'flows\\\\retrain_aug_d200396.tif', 'flows\\\\retrain_aug_d200397.tif', 'flows\\\\retrain_aug_d200398.tif', 'flows\\\\retrain_aug_d200399.tif', 'flows\\\\retrain_aug_d200400.tif', 'flows\\\\retrain_aug_d200401.tif', 'flows\\\\retrain_aug_d200402.tif', 'flows\\\\retrain_aug_d200403.tif', 'flows\\\\retrain_aug_d200404.tif', 'flows\\\\retrain_aug_d200405.tif', 'flows\\\\retrain_aug_d200406.tif', 'flows\\\\retrain_aug_d200407.tif', 'flows\\\\retrain_aug_d200408.tif', 'flows\\\\retrain_aug_d200409.tif', 'flows\\\\retrain_aug_d200410.tif', 'flows\\\\retrain_aug_d200411.tif', 'flows\\\\retrain_aug_d200412.tif', 'flows\\\\retrain_aug_d200413.tif', 'flows\\\\retrain_aug_d200414.tif', 'flows\\\\retrain_aug_d200415.tif', 'flows\\\\retrain_aug_d200416.tif', 'flows\\\\retrain_aug_d200417.tif', 'flows\\\\retrain_aug_d200418.tif', 'flows\\\\retrain_aug_d200419.tif', 'flows\\\\retrain_aug_d200420.tif', 'flows\\\\retrain_aug_d200421.tif', 'flows\\\\retrain_aug_d200422.tif', 'flows\\\\retrain_aug_d200423.tif', 'flows\\\\retrain_aug_d200424.tif', 'flows\\\\retrain_aug_d200425.tif', 'flows\\\\retrain_aug_d200426.tif', 'flows\\\\retrain_aug_d200427.tif', 'flows\\\\retrain_aug_d200428.tif', 'flows\\\\retrain_aug_d200429.tif', 'flows\\\\retrain_aug_d200430.tif', 'flows\\\\retrain_aug_d200431.tif']\n",
      "2024-03-19 19:28:37,141 [INFO] >> nuclei << model set to be used\n",
      "2024-03-19 19:28:37,145 [INFO] ** TORCH CUDA version installed and working. **\n",
      "2024-03-19 19:28:37,147 [INFO] >>>> using GPU\n",
      "2024-03-19 19:28:37,403 [INFO] >>>> model diam_mean =  17.000 (ROIs rescaled to this size during training)\n",
      "2024-03-19 19:28:37,407 [INFO] computing flows for labels\n"
     ]
    },
    {
     "name": "stderr",
     "output_type": "stream",
     "text": [
      "  0%|          | 0/1504 [00:00<?, ?it/s]"
     ]
    },
    {
     "name": "stdout",
     "output_type": "stream",
     "text": [
      "2024-03-19 19:28:37,688 [WARNING] empty masks!\n",
      "2024-03-19 19:28:37,690 [WARNING] empty masks!\n",
      "2024-03-19 19:28:37,691 [WARNING] empty masks!\n",
      "2024-03-19 19:28:37,693 [WARNING] empty masks!\n",
      "2024-03-19 19:28:37,694 [WARNING] empty masks!\n",
      "2024-03-19 19:28:37,696 [WARNING] empty masks!\n",
      "2024-03-19 19:28:37,697 [WARNING] empty masks!\n",
      "2024-03-19 19:28:37,699 [WARNING] empty masks!\n",
      "2024-03-19 19:28:37,701 [WARNING] empty masks!\n",
      "2024-03-19 19:28:37,703 [WARNING] empty masks!\n",
      "2024-03-19 19:28:37,704 [WARNING] empty masks!\n",
      "2024-03-19 19:28:37,707 [WARNING] empty masks!\n",
      "2024-03-19 19:28:37,710 [WARNING] empty masks!\n",
      "2024-03-19 19:28:37,712 [WARNING] empty masks!\n",
      "2024-03-19 19:28:37,714 [WARNING] empty masks!\n",
      "2024-03-19 19:28:37,717 [WARNING] empty masks!\n",
      "2024-03-19 19:28:37,720 [WARNING] empty masks!\n",
      "2024-03-19 19:28:37,723 [WARNING] empty masks!\n",
      "2024-03-19 19:28:37,725 [WARNING] empty masks!\n",
      "2024-03-19 19:28:37,728 [WARNING] empty masks!\n"
     ]
    },
    {
     "name": "stderr",
     "output_type": "stream",
     "text": [
      "  2%|▏         | 37/1504 [00:02<01:21, 18.02it/s]"
     ]
    },
    {
     "name": "stdout",
     "output_type": "stream",
     "text": [
      "2024-03-19 19:28:40,432 [WARNING] empty masks!\n"
     ]
    },
    {
     "name": "stderr",
     "output_type": "stream",
     "text": [
      " 12%|█▏        | 181/1504 [00:06<00:35, 37.15it/s]"
     ]
    },
    {
     "name": "stdout",
     "output_type": "stream",
     "text": [
      "2024-03-19 19:28:44,664 [WARNING] empty masks!\n"
     ]
    },
    {
     "name": "stderr",
     "output_type": "stream",
     "text": [
      " 17%|█▋        | 258/1504 [00:08<00:34, 36.37it/s]"
     ]
    },
    {
     "name": "stdout",
     "output_type": "stream",
     "text": [
      "2024-03-19 19:28:46,678 [WARNING] empty masks!\n",
      "2024-03-19 19:28:46,681 [WARNING] empty masks!\n",
      "2024-03-19 19:28:46,683 [WARNING] empty masks!\n",
      "2024-03-19 19:28:46,685 [WARNING] empty masks!\n",
      "2024-03-19 19:28:46,687 [WARNING] empty masks!\n",
      "2024-03-19 19:28:46,689 [WARNING] empty masks!\n",
      "2024-03-19 19:28:46,690 [WARNING] empty masks!\n",
      "2024-03-19 19:28:46,692 [WARNING] empty masks!\n",
      "2024-03-19 19:28:46,694 [WARNING] empty masks!\n",
      "2024-03-19 19:28:46,696 [WARNING] empty masks!\n",
      "2024-03-19 19:28:46,698 [WARNING] empty masks!\n",
      "2024-03-19 19:28:46,700 [WARNING] empty masks!\n",
      "2024-03-19 19:28:46,702 [WARNING] empty masks!\n",
      "2024-03-19 19:28:46,704 [WARNING] empty masks!\n",
      "2024-03-19 19:28:46,707 [WARNING] empty masks!\n",
      "2024-03-19 19:28:46,709 [WARNING] empty masks!\n",
      "2024-03-19 19:28:46,711 [WARNING] empty masks!\n",
      "2024-03-19 19:28:46,713 [WARNING] empty masks!\n",
      "2024-03-19 19:28:46,716 [WARNING] empty masks!\n",
      "2024-03-19 19:28:46,718 [WARNING] empty masks!\n",
      "2024-03-19 19:28:46,719 [WARNING] empty masks!\n",
      "2024-03-19 19:28:46,721 [WARNING] empty masks!\n",
      "2024-03-19 19:28:46,723 [WARNING] empty masks!\n",
      "2024-03-19 19:28:46,725 [WARNING] empty masks!\n",
      "2024-03-19 19:28:46,727 [WARNING] empty masks!\n",
      "2024-03-19 19:28:46,729 [WARNING] empty masks!\n",
      "2024-03-19 19:28:46,730 [WARNING] empty masks!\n"
     ]
    },
    {
     "name": "stderr",
     "output_type": "stream",
     "text": [
      " 19%|█▉        | 287/1504 [00:09<00:11, 101.73it/s]"
     ]
    },
    {
     "name": "stdout",
     "output_type": "stream",
     "text": [
      "2024-03-19 19:28:46,733 [WARNING] empty masks!\n",
      "2024-03-19 19:28:46,735 [WARNING] empty masks!\n",
      "2024-03-19 19:28:46,737 [WARNING] empty masks!\n",
      "2024-03-19 19:28:46,739 [WARNING] empty masks!\n",
      "2024-03-19 19:28:46,741 [WARNING] empty masks!\n",
      "2024-03-19 19:28:46,744 [WARNING] empty masks!\n",
      "2024-03-19 19:28:46,746 [WARNING] empty masks!\n",
      "2024-03-19 19:28:46,749 [WARNING] empty masks!\n",
      "2024-03-19 19:28:46,751 [WARNING] empty masks!\n",
      "2024-03-19 19:28:46,753 [WARNING] empty masks!\n",
      "2024-03-19 19:28:46,755 [WARNING] empty masks!\n",
      "2024-03-19 19:28:46,757 [WARNING] empty masks!\n",
      "2024-03-19 19:28:46,759 [WARNING] empty masks!\n",
      "2024-03-19 19:28:46,760 [WARNING] empty masks!\n",
      "2024-03-19 19:28:46,762 [WARNING] empty masks!\n",
      "2024-03-19 19:28:46,764 [WARNING] empty masks!\n",
      "2024-03-19 19:28:46,766 [WARNING] empty masks!\n",
      "2024-03-19 19:28:46,768 [WARNING] empty masks!\n",
      "2024-03-19 19:28:46,769 [WARNING] empty masks!\n",
      "2024-03-19 19:28:46,771 [WARNING] empty masks!\n",
      "2024-03-19 19:28:46,774 [WARNING] empty masks!\n",
      "2024-03-19 19:28:46,775 [WARNING] empty masks!\n",
      "2024-03-19 19:28:46,777 [WARNING] empty masks!\n",
      "2024-03-19 19:28:46,779 [WARNING] empty masks!\n",
      "2024-03-19 19:28:46,781 [WARNING] empty masks!\n",
      "2024-03-19 19:28:46,782 [WARNING] empty masks!\n",
      "2024-03-19 19:28:46,783 [WARNING] empty masks!\n",
      "2024-03-19 19:28:46,784 [WARNING] empty masks!\n",
      "2024-03-19 19:28:46,786 [WARNING] empty masks!\n",
      "2024-03-19 19:28:46,788 [WARNING] empty masks!\n",
      "2024-03-19 19:28:46,789 [WARNING] empty masks!\n",
      "2024-03-19 19:28:46,790 [WARNING] empty masks!\n",
      "2024-03-19 19:28:46,791 [WARNING] empty masks!\n",
      "2024-03-19 19:28:46,792 [WARNING] empty masks!\n",
      "2024-03-19 19:28:46,793 [WARNING] empty masks!\n",
      "2024-03-19 19:28:46,794 [WARNING] empty masks!\n",
      "2024-03-19 19:28:46,796 [WARNING] empty masks!\n",
      "2024-03-19 19:28:46,797 [WARNING] empty masks!\n",
      "2024-03-19 19:28:46,799 [WARNING] empty masks!\n",
      "2024-03-19 19:28:46,802 [WARNING] empty masks!\n",
      "2024-03-19 19:28:46,809 [WARNING] empty masks!\n",
      "2024-03-19 19:28:46,812 [WARNING] empty masks!\n",
      "2024-03-19 19:28:46,813 [WARNING] empty masks!\n",
      "2024-03-19 19:28:46,815 [WARNING] empty masks!\n",
      "2024-03-19 19:28:46,816 [WARNING] empty masks!\n",
      "2024-03-19 19:28:46,817 [WARNING] empty masks!\n",
      "2024-03-19 19:28:46,819 [WARNING] empty masks!\n",
      "2024-03-19 19:28:46,821 [WARNING] empty masks!\n",
      "2024-03-19 19:28:46,822 [WARNING] empty masks!\n",
      "2024-03-19 19:28:46,824 [WARNING] empty masks!\n",
      "2024-03-19 19:28:46,825 [WARNING] empty masks!\n",
      "2024-03-19 19:28:46,827 [WARNING] empty masks!\n",
      "2024-03-19 19:28:46,828 [WARNING] empty masks!\n",
      "2024-03-19 19:28:46,829 [WARNING] empty masks!\n",
      "2024-03-19 19:28:46,830 [WARNING] empty masks!\n"
     ]
    },
    {
     "name": "stderr",
     "output_type": "stream",
     "text": [
      " 23%|██▎       | 342/1504 [00:09<00:05, 222.09it/s]"
     ]
    },
    {
     "name": "stdout",
     "output_type": "stream",
     "text": [
      "2024-03-19 19:28:46,833 [WARNING] empty masks!\n",
      "2024-03-19 19:28:46,834 [WARNING] empty masks!\n",
      "2024-03-19 19:28:46,836 [WARNING] empty masks!\n",
      "2024-03-19 19:28:46,838 [WARNING] empty masks!\n",
      "2024-03-19 19:28:46,840 [WARNING] empty masks!\n",
      "2024-03-19 19:28:46,841 [WARNING] empty masks!\n",
      "2024-03-19 19:28:46,843 [WARNING] empty masks!\n",
      "2024-03-19 19:28:46,845 [WARNING] empty masks!\n",
      "2024-03-19 19:28:46,846 [WARNING] empty masks!\n",
      "2024-03-19 19:28:46,848 [WARNING] empty masks!\n",
      "2024-03-19 19:28:46,849 [WARNING] empty masks!\n",
      "2024-03-19 19:28:46,850 [WARNING] empty masks!\n",
      "2024-03-19 19:28:46,852 [WARNING] empty masks!\n",
      "2024-03-19 19:28:46,853 [WARNING] empty masks!\n",
      "2024-03-19 19:28:46,855 [WARNING] empty masks!\n",
      "2024-03-19 19:28:46,857 [WARNING] empty masks!\n",
      "2024-03-19 19:28:46,858 [WARNING] empty masks!\n",
      "2024-03-19 19:28:46,859 [WARNING] empty masks!\n",
      "2024-03-19 19:28:46,860 [WARNING] empty masks!\n",
      "2024-03-19 19:28:46,862 [WARNING] empty masks!\n",
      "2024-03-19 19:28:46,863 [WARNING] empty masks!\n",
      "2024-03-19 19:28:46,865 [WARNING] empty masks!\n",
      "2024-03-19 19:28:46,866 [WARNING] empty masks!\n",
      "2024-03-19 19:28:46,867 [WARNING] empty masks!\n",
      "2024-03-19 19:28:46,869 [WARNING] empty masks!\n",
      "2024-03-19 19:28:46,870 [WARNING] empty masks!\n",
      "2024-03-19 19:28:46,871 [WARNING] empty masks!\n",
      "2024-03-19 19:28:46,872 [WARNING] empty masks!\n",
      "2024-03-19 19:28:46,873 [WARNING] empty masks!\n",
      "2024-03-19 19:28:46,874 [WARNING] empty masks!\n",
      "2024-03-19 19:28:46,875 [WARNING] empty masks!\n",
      "2024-03-19 19:28:46,876 [WARNING] empty masks!\n",
      "2024-03-19 19:28:46,877 [WARNING] empty masks!\n",
      "2024-03-19 19:28:46,878 [WARNING] empty masks!\n",
      "2024-03-19 19:28:46,879 [WARNING] empty masks!\n",
      "2024-03-19 19:28:46,880 [WARNING] empty masks!\n",
      "2024-03-19 19:28:46,881 [WARNING] empty masks!\n",
      "2024-03-19 19:28:46,883 [WARNING] empty masks!\n"
     ]
    },
    {
     "name": "stderr",
     "output_type": "stream",
     "text": [
      " 30%|███       | 452/1504 [00:10<00:15, 66.11it/s] "
     ]
    },
    {
     "name": "stdout",
     "output_type": "stream",
     "text": [
      "2024-03-19 19:28:48,712 [WARNING] empty masks!\n"
     ]
    },
    {
     "name": "stderr",
     "output_type": "stream",
     "text": [
      " 40%|███▉      | 596/1504 [00:15<00:22, 39.78it/s]"
     ]
    },
    {
     "name": "stdout",
     "output_type": "stream",
     "text": [
      "2024-03-19 19:28:52,992 [WARNING] empty masks!\n"
     ]
    },
    {
     "name": "stderr",
     "output_type": "stream",
     "text": [
      " 41%|████      | 619/1504 [00:15<00:19, 45.62it/s]"
     ]
    },
    {
     "name": "stdout",
     "output_type": "stream",
     "text": [
      "2024-03-19 19:28:53,387 [WARNING] empty masks!\n",
      "2024-03-19 19:28:53,390 [WARNING] empty masks!\n",
      "2024-03-19 19:28:53,392 [WARNING] empty masks!\n",
      "2024-03-19 19:28:53,394 [WARNING] empty masks!\n",
      "2024-03-19 19:28:53,396 [WARNING] empty masks!\n",
      "2024-03-19 19:28:53,399 [WARNING] empty masks!\n",
      "2024-03-19 19:28:53,402 [WARNING] empty masks!\n",
      "2024-03-19 19:28:53,404 [WARNING] empty masks!\n",
      "2024-03-19 19:28:53,406 [WARNING] empty masks!\n",
      "2024-03-19 19:28:53,408 [WARNING] empty masks!\n",
      "2024-03-19 19:28:53,409 [WARNING] empty masks!\n",
      "2024-03-19 19:28:53,410 [WARNING] empty masks!\n",
      "2024-03-19 19:28:53,412 [WARNING] empty masks!\n",
      "2024-03-19 19:28:53,413 [WARNING] empty masks!\n",
      "2024-03-19 19:28:53,414 [WARNING] empty masks!\n",
      "2024-03-19 19:28:53,415 [WARNING] empty masks!\n",
      "2024-03-19 19:28:53,416 [WARNING] empty masks!\n",
      "2024-03-19 19:28:53,417 [WARNING] empty masks!\n",
      "2024-03-19 19:28:53,418 [WARNING] empty masks!\n",
      "2024-03-19 19:28:53,419 [WARNING] empty masks!\n",
      "2024-03-19 19:28:53,421 [WARNING] empty masks!\n",
      "2024-03-19 19:28:53,422 [WARNING] empty masks!\n",
      "2024-03-19 19:28:53,423 [WARNING] empty masks!\n",
      "2024-03-19 19:28:53,424 [WARNING] empty masks!\n",
      "2024-03-19 19:28:53,425 [WARNING] empty masks!\n",
      "2024-03-19 19:28:53,426 [WARNING] empty masks!\n",
      "2024-03-19 19:28:53,428 [WARNING] empty masks!\n",
      "2024-03-19 19:28:53,429 [WARNING] empty masks!\n",
      "2024-03-19 19:28:53,432 [WARNING] empty masks!\n",
      "2024-03-19 19:28:53,433 [WARNING] empty masks!\n",
      "2024-03-19 19:28:53,434 [WARNING] empty masks!\n",
      "2024-03-19 19:28:53,436 [WARNING] empty masks!\n",
      "2024-03-19 19:28:53,437 [WARNING] empty masks!\n",
      "2024-03-19 19:28:53,439 [WARNING] empty masks!\n",
      "2024-03-19 19:28:53,441 [WARNING] empty masks!\n",
      "2024-03-19 19:28:53,442 [WARNING] empty masks!\n",
      "2024-03-19 19:28:53,445 [WARNING] empty masks!\n",
      "2024-03-19 19:28:53,447 [WARNING] empty masks!\n",
      "2024-03-19 19:28:53,448 [WARNING] empty masks!\n",
      "2024-03-19 19:28:53,450 [WARNING] empty masks!\n",
      "2024-03-19 19:28:53,452 [WARNING] empty masks!\n",
      "2024-03-19 19:28:53,453 [WARNING] empty masks!\n",
      "2024-03-19 19:28:53,454 [WARNING] empty masks!\n",
      "2024-03-19 19:28:53,456 [WARNING] empty masks!\n",
      "2024-03-19 19:28:53,457 [WARNING] empty masks!\n",
      "2024-03-19 19:28:53,458 [WARNING] empty masks!\n",
      "2024-03-19 19:28:53,460 [WARNING] empty masks!\n",
      "2024-03-19 19:28:53,462 [WARNING] empty masks!\n",
      "2024-03-19 19:28:53,463 [WARNING] empty masks!\n",
      "2024-03-19 19:28:53,464 [WARNING] empty masks!\n",
      "2024-03-19 19:28:53,465 [WARNING] empty masks!\n",
      "2024-03-19 19:28:53,467 [WARNING] empty masks!\n",
      "2024-03-19 19:28:53,468 [WARNING] empty masks!\n",
      "2024-03-19 19:28:53,470 [WARNING] empty masks!\n",
      "2024-03-19 19:28:53,472 [WARNING] empty masks!\n",
      "2024-03-19 19:28:53,473 [WARNING] empty masks!\n",
      "2024-03-19 19:28:53,475 [WARNING] empty masks!\n",
      "2024-03-19 19:28:53,476 [WARNING] empty masks!\n"
     ]
    },
    {
     "name": "stderr",
     "output_type": "stream",
     "text": [
      " 45%|████▌     | 678/1504 [00:15<00:04, 194.16it/s]"
     ]
    },
    {
     "name": "stdout",
     "output_type": "stream",
     "text": [
      "2024-03-19 19:28:53,478 [WARNING] empty masks!\n",
      "2024-03-19 19:28:53,479 [WARNING] empty masks!\n",
      "2024-03-19 19:28:53,481 [WARNING] empty masks!\n",
      "2024-03-19 19:28:53,482 [WARNING] empty masks!\n",
      "2024-03-19 19:28:53,483 [WARNING] empty masks!\n"
     ]
    },
    {
     "name": "stderr",
     "output_type": "stream",
     "text": [
      " 49%|████▉     | 739/1504 [00:17<00:13, 57.27it/s] "
     ]
    },
    {
     "name": "stdout",
     "output_type": "stream",
     "text": [
      "2024-03-19 19:28:55,053 [WARNING] empty masks!\n"
     ]
    },
    {
     "name": "stderr",
     "output_type": "stream",
     "text": [
      " 50%|████▉     | 748/1504 [00:17<00:13, 54.31it/s]"
     ]
    },
    {
     "name": "stdout",
     "output_type": "stream",
     "text": [
      "2024-03-19 19:28:55,057 [WARNING] empty masks!\n",
      "2024-03-19 19:28:55,059 [WARNING] empty masks!\n",
      "2024-03-19 19:28:55,061 [WARNING] empty masks!\n",
      "2024-03-19 19:28:55,063 [WARNING] empty masks!\n",
      "2024-03-19 19:28:55,065 [WARNING] empty masks!\n",
      "2024-03-19 19:28:55,068 [WARNING] empty masks!\n",
      "2024-03-19 19:28:55,070 [WARNING] empty masks!\n",
      "2024-03-19 19:28:55,072 [WARNING] empty masks!\n",
      "2024-03-19 19:28:55,076 [WARNING] empty masks!\n",
      "2024-03-19 19:28:55,082 [WARNING] empty masks!\n",
      "2024-03-19 19:28:55,087 [WARNING] empty masks!\n",
      "2024-03-19 19:28:55,090 [WARNING] empty masks!\n",
      "2024-03-19 19:28:55,092 [WARNING] empty masks!\n",
      "2024-03-19 19:28:55,094 [WARNING] empty masks!\n",
      "2024-03-19 19:28:55,095 [WARNING] empty masks!\n",
      "2024-03-19 19:28:55,096 [WARNING] empty masks!\n",
      "2024-03-19 19:28:55,098 [WARNING] empty masks!\n",
      "2024-03-19 19:28:55,099 [WARNING] empty masks!\n",
      "2024-03-19 19:28:55,100 [WARNING] empty masks!\n",
      "2024-03-19 19:28:55,102 [WARNING] empty masks!\n",
      "2024-03-19 19:28:55,103 [WARNING] empty masks!\n",
      "2024-03-19 19:28:55,105 [WARNING] empty masks!\n",
      "2024-03-19 19:28:55,106 [WARNING] empty masks!\n",
      "2024-03-19 19:28:55,107 [WARNING] empty masks!\n",
      "2024-03-19 19:28:55,108 [WARNING] empty masks!\n",
      "2024-03-19 19:28:55,110 [WARNING] empty masks!\n",
      "2024-03-19 19:28:55,111 [WARNING] empty masks!\n",
      "2024-03-19 19:28:55,112 [WARNING] empty masks!\n",
      "2024-03-19 19:28:55,114 [WARNING] empty masks!\n",
      "2024-03-19 19:28:55,115 [WARNING] empty masks!\n",
      "2024-03-19 19:28:55,116 [WARNING] empty masks!\n",
      "2024-03-19 19:28:55,118 [WARNING] empty masks!\n",
      "2024-03-19 19:28:55,119 [WARNING] empty masks!\n",
      "2024-03-19 19:28:55,120 [WARNING] empty masks!\n",
      "2024-03-19 19:28:55,122 [WARNING] empty masks!\n",
      "2024-03-19 19:28:55,123 [WARNING] empty masks!\n",
      "2024-03-19 19:28:55,125 [WARNING] empty masks!\n",
      "2024-03-19 19:28:55,126 [WARNING] empty masks!\n",
      "2024-03-19 19:28:55,128 [WARNING] empty masks!\n",
      "2024-03-19 19:28:55,129 [WARNING] empty masks!\n",
      "2024-03-19 19:28:55,130 [WARNING] empty masks!\n",
      "2024-03-19 19:28:55,132 [WARNING] empty masks!\n",
      "2024-03-19 19:28:55,133 [WARNING] empty masks!\n",
      "2024-03-19 19:28:55,134 [WARNING] empty masks!\n",
      "2024-03-19 19:28:55,136 [WARNING] empty masks!\n",
      "2024-03-19 19:28:55,138 [WARNING] empty masks!\n",
      "2024-03-19 19:28:55,139 [WARNING] empty masks!\n",
      "2024-03-19 19:28:55,140 [WARNING] empty masks!\n",
      "2024-03-19 19:28:55,141 [WARNING] empty masks!\n",
      "2024-03-19 19:28:55,142 [WARNING] empty masks!\n",
      "2024-03-19 19:28:55,143 [WARNING] empty masks!\n",
      "2024-03-19 19:28:55,144 [WARNING] empty masks!\n",
      "2024-03-19 19:28:55,145 [WARNING] empty masks!\n",
      "2024-03-19 19:28:55,146 [WARNING] empty masks!\n",
      "2024-03-19 19:28:55,147 [WARNING] empty masks!\n",
      "2024-03-19 19:28:55,148 [WARNING] empty masks!\n",
      "2024-03-19 19:28:55,149 [WARNING] empty masks!\n",
      "2024-03-19 19:28:55,150 [WARNING] empty masks!\n",
      "2024-03-19 19:28:55,151 [WARNING] empty masks!\n",
      "2024-03-19 19:28:55,152 [WARNING] empty masks!\n",
      "2024-03-19 19:28:55,154 [WARNING] empty masks!\n",
      "2024-03-19 19:28:55,155 [WARNING] empty masks!\n"
     ]
    },
    {
     "name": "stderr",
     "output_type": "stream",
     "text": [
      " 54%|█████▍    | 810/1504 [00:17<00:05, 137.08it/s]"
     ]
    },
    {
     "name": "stdout",
     "output_type": "stream",
     "text": [
      "2024-03-19 19:28:55,157 [WARNING] empty masks!\n",
      "2024-03-19 19:28:55,158 [WARNING] empty masks!\n",
      "2024-03-19 19:28:55,159 [WARNING] empty masks!\n",
      "2024-03-19 19:28:55,160 [WARNING] empty masks!\n",
      "2024-03-19 19:28:55,162 [WARNING] empty masks!\n",
      "2024-03-19 19:28:55,163 [WARNING] empty masks!\n",
      "2024-03-19 19:28:55,164 [WARNING] empty masks!\n",
      "2024-03-19 19:28:55,166 [WARNING] empty masks!\n",
      "2024-03-19 19:28:55,167 [WARNING] empty masks!\n",
      "2024-03-19 19:28:55,169 [WARNING] empty masks!\n",
      "2024-03-19 19:28:55,170 [WARNING] empty masks!\n",
      "2024-03-19 19:28:55,171 [WARNING] empty masks!\n",
      "2024-03-19 19:28:55,173 [WARNING] empty masks!\n",
      "2024-03-19 19:28:55,174 [WARNING] empty masks!\n",
      "2024-03-19 19:28:55,175 [WARNING] empty masks!\n",
      "2024-03-19 19:28:55,176 [WARNING] empty masks!\n",
      "2024-03-19 19:28:55,177 [WARNING] empty masks!\n"
     ]
    },
    {
     "name": "stderr",
     "output_type": "stream",
     "text": [
      " 59%|█████▊    | 883/1504 [00:18<00:09, 62.98it/s] "
     ]
    },
    {
     "name": "stdout",
     "output_type": "stream",
     "text": [
      "2024-03-19 19:28:56,687 [WARNING] empty masks!\n",
      "2024-03-19 19:28:56,689 [WARNING] empty masks!\n"
     ]
    },
    {
     "name": "stderr",
     "output_type": "stream",
     "text": [
      " 59%|█████▉    | 893/1504 [00:19<00:09, 61.54it/s]"
     ]
    },
    {
     "name": "stdout",
     "output_type": "stream",
     "text": [
      "2024-03-19 19:28:56,692 [WARNING] empty masks!\n",
      "2024-03-19 19:28:56,694 [WARNING] empty masks!\n",
      "2024-03-19 19:28:56,696 [WARNING] empty masks!\n",
      "2024-03-19 19:28:56,698 [WARNING] empty masks!\n",
      "2024-03-19 19:28:56,700 [WARNING] empty masks!\n",
      "2024-03-19 19:28:56,702 [WARNING] empty masks!\n",
      "2024-03-19 19:28:56,704 [WARNING] empty masks!\n",
      "2024-03-19 19:28:56,706 [WARNING] empty masks!\n",
      "2024-03-19 19:28:56,708 [WARNING] empty masks!\n",
      "2024-03-19 19:28:56,710 [WARNING] empty masks!\n",
      "2024-03-19 19:28:56,712 [WARNING] empty masks!\n",
      "2024-03-19 19:28:56,714 [WARNING] empty masks!\n",
      "2024-03-19 19:28:56,716 [WARNING] empty masks!\n",
      "2024-03-19 19:28:56,718 [WARNING] empty masks!\n",
      "2024-03-19 19:28:56,719 [WARNING] empty masks!\n",
      "2024-03-19 19:28:56,720 [WARNING] empty masks!\n",
      "2024-03-19 19:28:56,722 [WARNING] empty masks!\n",
      "2024-03-19 19:28:56,724 [WARNING] empty masks!\n",
      "2024-03-19 19:28:56,725 [WARNING] empty masks!\n",
      "2024-03-19 19:28:56,727 [WARNING] empty masks!\n",
      "2024-03-19 19:28:56,728 [WARNING] empty masks!\n",
      "2024-03-19 19:28:56,729 [WARNING] empty masks!\n",
      "2024-03-19 19:28:56,731 [WARNING] empty masks!\n",
      "2024-03-19 19:28:56,732 [WARNING] empty masks!\n",
      "2024-03-19 19:28:56,734 [WARNING] empty masks!\n",
      "2024-03-19 19:28:56,736 [WARNING] empty masks!\n",
      "2024-03-19 19:28:56,737 [WARNING] empty masks!\n",
      "2024-03-19 19:28:56,739 [WARNING] empty masks!\n",
      "2024-03-19 19:28:56,741 [WARNING] empty masks!\n",
      "2024-03-19 19:28:56,743 [WARNING] empty masks!\n",
      "2024-03-19 19:28:56,745 [WARNING] empty masks!\n",
      "2024-03-19 19:28:56,747 [WARNING] empty masks!\n",
      "2024-03-19 19:28:56,749 [WARNING] empty masks!\n",
      "2024-03-19 19:28:56,750 [WARNING] empty masks!\n",
      "2024-03-19 19:28:56,751 [WARNING] empty masks!\n",
      "2024-03-19 19:28:56,753 [WARNING] empty masks!\n",
      "2024-03-19 19:28:56,755 [WARNING] empty masks!\n",
      "2024-03-19 19:28:56,756 [WARNING] empty masks!\n",
      "2024-03-19 19:28:56,757 [WARNING] empty masks!\n",
      "2024-03-19 19:28:56,758 [WARNING] empty masks!\n",
      "2024-03-19 19:28:56,760 [WARNING] empty masks!\n",
      "2024-03-19 19:28:56,761 [WARNING] empty masks!\n",
      "2024-03-19 19:28:56,762 [WARNING] empty masks!\n",
      "2024-03-19 19:28:56,764 [WARNING] empty masks!\n",
      "2024-03-19 19:28:56,765 [WARNING] empty masks!\n",
      "2024-03-19 19:28:56,766 [WARNING] empty masks!\n",
      "2024-03-19 19:28:56,767 [WARNING] empty masks!\n",
      "2024-03-19 19:28:56,769 [WARNING] empty masks!\n",
      "2024-03-19 19:28:56,770 [WARNING] empty masks!\n",
      "2024-03-19 19:28:56,772 [WARNING] empty masks!\n",
      "2024-03-19 19:28:56,774 [WARNING] empty masks!\n",
      "2024-03-19 19:28:56,775 [WARNING] empty masks!\n",
      "2024-03-19 19:28:56,777 [WARNING] empty masks!\n",
      "2024-03-19 19:28:56,779 [WARNING] empty masks!\n",
      "2024-03-19 19:28:56,781 [WARNING] empty masks!\n",
      "2024-03-19 19:28:56,782 [WARNING] empty masks!\n",
      "2024-03-19 19:28:56,783 [WARNING] empty masks!\n",
      "2024-03-19 19:28:56,785 [WARNING] empty masks!\n",
      "2024-03-19 19:28:56,786 [WARNING] empty masks!\n"
     ]
    },
    {
     "name": "stderr",
     "output_type": "stream",
     "text": [
      " 63%|██████▎   | 952/1504 [00:19<00:04, 134.41it/s]"
     ]
    },
    {
     "name": "stdout",
     "output_type": "stream",
     "text": [
      "2024-03-19 19:28:56,792 [WARNING] empty masks!\n",
      "2024-03-19 19:28:56,794 [WARNING] empty masks!\n",
      "2024-03-19 19:28:56,796 [WARNING] empty masks!\n",
      "2024-03-19 19:28:56,801 [WARNING] empty masks!\n",
      "2024-03-19 19:28:56,804 [WARNING] empty masks!\n",
      "2024-03-19 19:28:56,805 [WARNING] empty masks!\n",
      "2024-03-19 19:28:56,807 [WARNING] empty masks!\n",
      "2024-03-19 19:28:56,809 [WARNING] empty masks!\n",
      "2024-03-19 19:28:56,812 [WARNING] empty masks!\n",
      "2024-03-19 19:28:56,813 [WARNING] empty masks!\n",
      "2024-03-19 19:28:56,816 [WARNING] empty masks!\n",
      "2024-03-19 19:28:56,826 [WARNING] empty masks!\n",
      "2024-03-19 19:28:56,827 [WARNING] empty masks!\n",
      "2024-03-19 19:28:56,828 [WARNING] empty masks!\n",
      "2024-03-19 19:28:56,830 [WARNING] empty masks!\n",
      "2024-03-19 19:28:56,832 [WARNING] empty masks!\n",
      "2024-03-19 19:28:56,833 [WARNING] empty masks!\n",
      "2024-03-19 19:28:56,834 [WARNING] empty masks!\n",
      "2024-03-19 19:28:56,835 [WARNING] empty masks!\n"
     ]
    },
    {
     "name": "stderr",
     "output_type": "stream",
     "text": [
      " 68%|██████▊   | 1028/1504 [00:20<00:07, 67.36it/s]"
     ]
    },
    {
     "name": "stdout",
     "output_type": "stream",
     "text": [
      "2024-03-19 19:28:58,229 [WARNING] empty masks!\n",
      "2024-03-19 19:28:58,231 [WARNING] empty masks!\n",
      "2024-03-19 19:28:58,234 [WARNING] empty masks!\n",
      "2024-03-19 19:28:58,236 [WARNING] empty masks!\n"
     ]
    },
    {
     "name": "stderr",
     "output_type": "stream",
     "text": [
      " 69%|██████▉   | 1039/1504 [00:20<00:06, 67.59it/s]"
     ]
    },
    {
     "name": "stdout",
     "output_type": "stream",
     "text": [
      "2024-03-19 19:28:58,238 [WARNING] empty masks!\n",
      "2024-03-19 19:28:58,240 [WARNING] empty masks!\n",
      "2024-03-19 19:28:58,242 [WARNING] empty masks!\n",
      "2024-03-19 19:28:58,244 [WARNING] empty masks!\n",
      "2024-03-19 19:28:58,246 [WARNING] empty masks!\n",
      "2024-03-19 19:28:58,247 [WARNING] empty masks!\n",
      "2024-03-19 19:28:58,249 [WARNING] empty masks!\n",
      "2024-03-19 19:28:58,252 [WARNING] empty masks!\n",
      "2024-03-19 19:28:58,255 [WARNING] empty masks!\n",
      "2024-03-19 19:28:58,257 [WARNING] empty masks!\n",
      "2024-03-19 19:28:58,258 [WARNING] empty masks!\n",
      "2024-03-19 19:28:58,260 [WARNING] empty masks!\n",
      "2024-03-19 19:28:58,262 [WARNING] empty masks!\n",
      "2024-03-19 19:28:58,263 [WARNING] empty masks!\n",
      "2024-03-19 19:28:58,265 [WARNING] empty masks!\n",
      "2024-03-19 19:28:58,267 [WARNING] empty masks!\n",
      "2024-03-19 19:28:58,268 [WARNING] empty masks!\n",
      "2024-03-19 19:28:58,270 [WARNING] empty masks!\n",
      "2024-03-19 19:28:58,272 [WARNING] empty masks!\n",
      "2024-03-19 19:28:58,274 [WARNING] empty masks!\n",
      "2024-03-19 19:28:58,275 [WARNING] empty masks!\n",
      "2024-03-19 19:28:58,276 [WARNING] empty masks!\n",
      "2024-03-19 19:28:58,278 [WARNING] empty masks!\n",
      "2024-03-19 19:28:58,280 [WARNING] empty masks!\n",
      "2024-03-19 19:28:58,282 [WARNING] empty masks!\n",
      "2024-03-19 19:28:58,284 [WARNING] empty masks!\n",
      "2024-03-19 19:28:58,285 [WARNING] empty masks!\n",
      "2024-03-19 19:28:58,287 [WARNING] empty masks!\n",
      "2024-03-19 19:28:58,288 [WARNING] empty masks!\n",
      "2024-03-19 19:28:58,289 [WARNING] empty masks!\n",
      "2024-03-19 19:28:58,291 [WARNING] empty masks!\n",
      "2024-03-19 19:28:58,293 [WARNING] empty masks!\n",
      "2024-03-19 19:28:58,294 [WARNING] empty masks!\n",
      "2024-03-19 19:28:58,296 [WARNING] empty masks!\n",
      "2024-03-19 19:28:58,298 [WARNING] empty masks!\n",
      "2024-03-19 19:28:58,300 [WARNING] empty masks!\n",
      "2024-03-19 19:28:58,302 [WARNING] empty masks!\n",
      "2024-03-19 19:28:58,303 [WARNING] empty masks!\n",
      "2024-03-19 19:28:58,305 [WARNING] empty masks!\n",
      "2024-03-19 19:28:58,306 [WARNING] empty masks!\n",
      "2024-03-19 19:28:58,308 [WARNING] empty masks!\n",
      "2024-03-19 19:28:58,309 [WARNING] empty masks!\n",
      "2024-03-19 19:28:58,311 [WARNING] empty masks!\n",
      "2024-03-19 19:28:58,313 [WARNING] empty masks!\n",
      "2024-03-19 19:28:58,314 [WARNING] empty masks!\n",
      "2024-03-19 19:28:58,316 [WARNING] empty masks!\n",
      "2024-03-19 19:28:58,317 [WARNING] empty masks!\n",
      "2024-03-19 19:28:58,319 [WARNING] empty masks!\n",
      "2024-03-19 19:28:58,321 [WARNING] empty masks!\n",
      "2024-03-19 19:28:58,322 [WARNING] empty masks!\n",
      "2024-03-19 19:28:58,324 [WARNING] empty masks!\n",
      "2024-03-19 19:28:58,325 [WARNING] empty masks!\n",
      "2024-03-19 19:28:58,327 [WARNING] empty masks!\n",
      "2024-03-19 19:28:58,328 [WARNING] empty masks!\n"
     ]
    },
    {
     "name": "stderr",
     "output_type": "stream",
     "text": [
      " 81%|████████  | 1213/1504 [00:24<00:16, 17.68it/s] "
     ]
    },
    {
     "name": "stdout",
     "output_type": "stream",
     "text": [
      "2024-03-19 19:29:02,322 [WARNING] empty masks!\n",
      "2024-03-19 19:29:02,323 [WARNING] empty masks!\n",
      "2024-03-19 19:29:02,324 [WARNING] empty masks!\n",
      "2024-03-19 19:29:02,326 [WARNING] empty masks!\n",
      "2024-03-19 19:29:02,328 [WARNING] empty masks!\n",
      "2024-03-19 19:29:02,329 [WARNING] empty masks!\n",
      "2024-03-19 19:29:02,331 [WARNING] empty masks!\n",
      "2024-03-19 19:29:02,333 [WARNING] empty masks!\n",
      "2024-03-19 19:29:02,335 [WARNING] empty masks!\n",
      "2024-03-19 19:29:02,337 [WARNING] empty masks!\n",
      "2024-03-19 19:29:02,339 [WARNING] empty masks!\n",
      "2024-03-19 19:29:02,341 [WARNING] empty masks!\n",
      "2024-03-19 19:29:02,342 [WARNING] empty masks!\n",
      "2024-03-19 19:29:02,344 [WARNING] empty masks!\n",
      "2024-03-19 19:29:02,346 [WARNING] empty masks!\n",
      "2024-03-19 19:29:02,349 [WARNING] empty masks!\n",
      "2024-03-19 19:29:02,350 [WARNING] empty masks!\n",
      "2024-03-19 19:29:02,352 [WARNING] empty masks!\n",
      "2024-03-19 19:29:02,354 [WARNING] empty masks!\n",
      "2024-03-19 19:29:02,355 [WARNING] empty masks!\n",
      "2024-03-19 19:29:02,357 [WARNING] empty masks!\n",
      "2024-03-19 19:29:02,358 [WARNING] empty masks!\n"
     ]
    },
    {
     "name": "stderr",
     "output_type": "stream",
     "text": [
      " 90%|█████████ | 1358/1504 [00:28<00:08, 17.23it/s]"
     ]
    },
    {
     "name": "stdout",
     "output_type": "stream",
     "text": [
      "2024-03-19 19:29:06,145 [WARNING] empty masks!\n",
      "2024-03-19 19:29:06,147 [WARNING] empty masks!\n",
      "2024-03-19 19:29:06,149 [WARNING] empty masks!\n",
      "2024-03-19 19:29:06,150 [WARNING] empty masks!\n",
      "2024-03-19 19:29:06,153 [WARNING] empty masks!\n",
      "2024-03-19 19:29:06,154 [WARNING] empty masks!\n",
      "2024-03-19 19:29:06,156 [WARNING] empty masks!\n",
      "2024-03-19 19:29:06,158 [WARNING] empty masks!\n",
      "2024-03-19 19:29:06,159 [WARNING] empty masks!\n",
      "2024-03-19 19:29:06,161 [WARNING] empty masks!\n",
      "2024-03-19 19:29:06,163 [WARNING] empty masks!\n",
      "2024-03-19 19:29:06,164 [WARNING] empty masks!\n",
      "2024-03-19 19:29:06,166 [WARNING] empty masks!\n",
      "2024-03-19 19:29:06,168 [WARNING] empty masks!\n",
      "2024-03-19 19:29:06,171 [WARNING] empty masks!\n",
      "2024-03-19 19:29:06,184 [WARNING] empty masks!\n",
      "2024-03-19 19:29:06,187 [WARNING] empty masks!\n",
      "2024-03-19 19:29:06,190 [WARNING] empty masks!\n",
      "2024-03-19 19:29:06,192 [WARNING] empty masks!\n",
      "2024-03-19 19:29:06,193 [WARNING] empty masks!\n",
      "2024-03-19 19:29:06,194 [WARNING] empty masks!\n",
      "2024-03-19 19:29:06,196 [WARNING] empty masks!\n"
     ]
    },
    {
     "name": "stderr",
     "output_type": "stream",
     "text": [
      "100%|█████████▉| 1501/1504 [00:32<00:00, 15.66it/s]"
     ]
    },
    {
     "name": "stdout",
     "output_type": "stream",
     "text": [
      "2024-03-19 19:29:10,206 [WARNING] empty masks!\n"
     ]
    },
    {
     "name": "stderr",
     "output_type": "stream",
     "text": [
      "100%|██████████| 1504/1504 [00:32<00:00, 46.25it/s]\n"
     ]
    },
    {
     "name": "stdout",
     "output_type": "stream",
     "text": [
      "2024-03-19 19:29:19,923 [INFO] >>> computing diameters\n"
     ]
    },
    {
     "name": "stderr",
     "output_type": "stream",
     "text": [
      "  0%|          | 0/1504 [00:00<?, ?it/s]c:\\Users\\lnr19\\Anaconda3\\envs\\cellpose\\Lib\\site-packages\\numpy\\core\\fromnumeric.py:3504: RuntimeWarning: Mean of empty slice.\n",
      "  return _methods._mean(a, axis=axis, dtype=dtype,\n",
      "c:\\Users\\lnr19\\Anaconda3\\envs\\cellpose\\Lib\\site-packages\\numpy\\core\\_methods.py:129: RuntimeWarning: invalid value encountered in scalar divide\n",
      "  ret = ret.dtype.type(ret / rcount)\n",
      "100%|██████████| 1504/1504 [00:01<00:00, 1067.57it/s]"
     ]
    },
    {
     "name": "stdout",
     "output_type": "stream",
     "text": [
      "2024-03-19 19:29:21,337 [WARNING] 753 train images with number of masks less than min_train_masks (5), removing from train set\n",
      "2024-03-19 19:29:21,339 [INFO] >>> using channels [0, 0]\n",
      "2024-03-19 19:29:21,339 [INFO] >>> normalizing {'lowhigh': None, 'percentile': None, 'normalize': True, 'norm3D': False, 'sharpen_radius': 0, 'smooth_radius': 0, 'tile_norm_blocksize': 0, 'tile_norm_smooth3D': 1, 'invert': False}\n"
     ]
    },
    {
     "name": "stderr",
     "output_type": "stream",
     "text": [
      "\n"
     ]
    },
    {
     "name": "stdout",
     "output_type": "stream",
     "text": [
      "2024-03-19 19:29:28,197 [INFO] >>> n_epochs=300, n_train=751, n_test=None\n",
      "2024-03-19 19:29:28,199 [INFO] >>> SGD, learning_rate=0.10000, weight_decay=0.00010, momentum=0.900\n",
      "2024-03-19 19:29:29,678 [INFO] >>> saving model to g:\\Data\\IBIN_Nina\\workspace\\nina_cellpose\\IBIN_Nina_code\\models\\nina_model\n",
      "2024-03-19 19:30:04,515 [INFO] 0, train_loss=0.1933, test_loss=0.0000, LR=0.0000, time 34.84s\n",
      "2024-03-19 19:32:57,603 [INFO] 5, train_loss=0.0957, test_loss=0.0000, LR=0.0556, time 207.93s\n",
      "2024-03-19 19:35:52,974 [INFO] 10, train_loss=0.0858, test_loss=0.0000, LR=0.1000, time 383.30s\n",
      "2024-03-19 19:41:42,770 [INFO] 20, train_loss=0.0796, test_loss=0.0000, LR=0.1000, time 733.09s\n",
      "2024-03-19 19:47:27,994 [INFO] 30, train_loss=0.0733, test_loss=0.0000, LR=0.1000, time 1078.32s\n",
      "2024-03-19 19:53:13,404 [INFO] 40, train_loss=0.0756, test_loss=0.0000, LR=0.1000, time 1423.73s\n",
      "2024-03-19 19:58:59,572 [INFO] 50, train_loss=0.0732, test_loss=0.0000, LR=0.1000, time 1769.89s\n",
      "2024-03-19 20:04:45,481 [INFO] 60, train_loss=0.0707, test_loss=0.0000, LR=0.1000, time 2115.80s\n",
      "2024-03-19 20:10:32,609 [INFO] 70, train_loss=0.0737, test_loss=0.0000, LR=0.1000, time 2462.93s\n",
      "2024-03-19 20:16:21,844 [INFO] 80, train_loss=0.0697, test_loss=0.0000, LR=0.1000, time 2812.17s\n",
      "2024-03-19 20:22:10,362 [INFO] 90, train_loss=0.0736, test_loss=0.0000, LR=0.1000, time 3160.68s\n",
      "2024-03-19 20:27:58,670 [INFO] 100, train_loss=0.0701, test_loss=0.0000, LR=0.1000, time 3508.99s\n",
      "2024-03-19 20:33:48,034 [INFO] 110, train_loss=0.0712, test_loss=0.0000, LR=0.1000, time 3858.36s\n",
      "2024-03-19 20:39:35,946 [INFO] 120, train_loss=0.0717, test_loss=0.0000, LR=0.1000, time 4206.27s\n",
      "2024-03-19 20:45:22,771 [INFO] 130, train_loss=0.0706, test_loss=0.0000, LR=0.1000, time 4553.09s\n",
      "2024-03-19 20:51:08,460 [INFO] 140, train_loss=0.0741, test_loss=0.0000, LR=0.1000, time 4898.78s\n",
      "2024-03-19 20:56:54,549 [INFO] 150, train_loss=0.0687, test_loss=0.0000, LR=0.1000, time 5244.87s\n",
      "2024-03-19 21:02:40,864 [INFO] 160, train_loss=0.0727, test_loss=0.0000, LR=0.1000, time 5591.19s\n",
      "2024-03-19 21:08:26,994 [INFO] 170, train_loss=0.0777, test_loss=0.0000, LR=0.1000, time 5937.32s\n",
      "2024-03-19 21:14:13,803 [INFO] 180, train_loss=0.0719, test_loss=0.0000, LR=0.1000, time 6284.13s\n",
      "2024-03-19 21:20:00,465 [INFO] 190, train_loss=0.0719, test_loss=0.0000, LR=0.1000, time 6630.79s\n",
      "2024-03-19 21:25:46,535 [INFO] 200, train_loss=0.0732, test_loss=0.0000, LR=0.1000, time 6976.86s\n",
      "2024-03-19 21:31:33,282 [INFO] 210, train_loss=0.0715, test_loss=0.0000, LR=0.1000, time 7323.60s\n",
      "2024-03-19 21:37:19,449 [INFO] 220, train_loss=0.0733, test_loss=0.0000, LR=0.1000, time 7669.77s\n",
      "2024-03-19 21:43:05,967 [INFO] 230, train_loss=0.0710, test_loss=0.0000, LR=0.1000, time 8016.29s\n",
      "2024-03-19 21:48:52,930 [INFO] 240, train_loss=0.0735, test_loss=0.0000, LR=0.1000, time 8363.25s\n",
      "2024-03-19 21:54:39,090 [INFO] 250, train_loss=0.0722, test_loss=0.0000, LR=0.0500, time 8709.41s\n",
      "2024-03-19 22:00:25,825 [INFO] 260, train_loss=0.0627, test_loss=0.0000, LR=0.0125, time 9056.15s\n",
      "2024-03-19 22:06:12,108 [INFO] 270, train_loss=0.0589, test_loss=0.0000, LR=0.0031, time 9402.43s\n",
      "2024-03-19 22:11:58,156 [INFO] 280, train_loss=0.0555, test_loss=0.0000, LR=0.0008, time 9748.48s\n",
      "2024-03-19 22:17:45,121 [INFO] 290, train_loss=0.0572, test_loss=0.0000, LR=0.0002, time 10095.44s\n"
     ]
    }
   ],
   "source": [
    "from cellpose import io, models, train\n",
    "io.logger_setup()\n",
    "\n",
    "# output = io.load_train_test_data(train_dir, test_dir, image_filter=\"_img\",\n",
    "#                                 mask_filter=\"_masks\", look_one_level_down=False)\n",
    "# images, labels, image_names, test_images, test_labels, image_names_test = output\n",
    "\n",
    "use_pretrained = True\n",
    "\n",
    "diam_mean = 13\n",
    "\n",
    "model_type = 'nuclei'\n",
    "\n",
    "data_folder =  \"G:/Data/IBIN_Nina/workspace/nina_cellpose/training_data/with_reslice/\"\n",
    "\n",
    "train_masks = data_folder + \"mask/\" #\"mask_only_right/\"\n",
    "train_data = data_folder + \"data/\" #\"data_only_right/\"\n",
    "\n",
    "data_fns = sorted( glob(train_data+\"*.tif\") )\n",
    "mask_fns = sorted( glob(train_masks+\"*.tif\") )\n",
    "# x = sorted( glob(test_data+\"*.tif\") )  No test data at the moment\n",
    "# y = sorted( glob(test_masks+\"*.tif\") )\n",
    "\n",
    "train_fileNames=[]\n",
    "test_fileNames=[]\n",
    "\n",
    "for i in range(len(data_fns)):\n",
    "    train_fileNames.append( os.path.join(\"flows\", os.path.basename(data_fns[i])) )\n",
    "\n",
    "# for i in range(len(x)-1):\n",
    "#     test_fileNames.append( os.path.basename(x[i]) )  \n",
    "\n",
    "print(train_fileNames)\n",
    "\n",
    "images = list(map(imread,data_fns))\n",
    "labels = list(map(imread,mask_fns))\n",
    "# x = list(map(imread,x))\n",
    "# y = list(map(imread,y))\n",
    "\n",
    "# e.g. retrain a Cellpose model\n",
    "model = models.CellposeModel(model_type=model_type, gpu=True)\n",
    "\n",
    "model_path = train.train_seg(model.net, train_data=images, train_labels=labels,\n",
    "                            channels=[0,0], normalize=True, train_files=train_fileNames,\n",
    "                            weight_decay=1e-4, SGD=True, learning_rate=0.1,\n",
    "                            n_epochs=300, model_name=\"nina_model\", \n",
    "                            save_every=50)"
   ]
  },
  {
   "cell_type": "code",
   "execution_count": 49,
   "metadata": {},
   "outputs": [
    {
     "data": {
      "text/plain": [
       "Text(0, 0.5, 'Loss')"
      ]
     },
     "execution_count": 49,
     "metadata": {},
     "output_type": "execute_result"
    },
    {
     "data": {
      "image/png": "[encoded data removed]",
      "text/plain": [
       "<Figure size 640x480 with 1 Axes>"
      ]
     },
     "metadata": {},
     "output_type": "display_data"
    }
   ],
   "source": [
    "import re\n",
    "from matplotlib import pyplot as plt\n",
    "\n",
    "log_file = \"C:/Users/lnr19/.cellpose/loss.csv\"\n",
    "with open(log_file) as file:\n",
    "    #print(file.read())\n",
    "    readstr = file.read()\n",
    "    train_match = re.findall(r'train_loss=(.+), te', readstr)\n",
    "    epochs_match = re.findall(r'\\[INFO\\] (.+), tr', readstr)\n",
    "\n",
    "epochs = [float(epoch) for epoch in epochs_match]\n",
    "losses = [float(loss) for loss in match]\n",
    "\n",
    "plt.figure()\n",
    "plt.plot(epochs, losses)\n",
    "plt.xlabel(\"Epochs\")\n",
    "plt.ylabel(\"Loss\")"
   ]
  }
 ],
 "metadata": {
  "kernelspec": {
   "display_name": "cellpose",
   "language": "python",
   "name": "python3"
  },
  "language_info": {
   "codemirror_mode": {
    "name": "ipython",
    "version": 3
   },
   "file_extension": ".py",
   "mimetype": "text/x-python",
   "name": "python",
   "nbconvert_exporter": "python",
   "pygments_lexer": "ipython3",
   "version": "3.12.2"
  }
 },
 "nbformat": 4,
 "nbformat_minor": 2
}
